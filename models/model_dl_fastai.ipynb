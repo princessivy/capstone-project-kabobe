{
  "cells": [
    {
      "cell_type": "markdown",
      "source": [
        "# A Transfer Learner with `fastai`\n",
        "\n",
        "This notebook tackels the problem of classifying industries with a transfer learner. It's a combination of two nlp-models: \n",
        "- `language` which was pretrained on Wikipedia articles to predict the next word\n",
        "- `classifer` model \n",
        "\n",
        "Thereby it follows [this](https://docs.fast.ai/tutorial.text.html) `fastai` tutorial. \n",
        "\n"
      ],
      "metadata": {
        "id": "n3v9yQ9a5qaO"
      },
      "id": "n3v9yQ9a5qaO"
    },
    {
      "cell_type": "markdown",
      "id": "4ad28c50",
      "metadata": {
        "id": "4ad28c50"
      },
      "source": [
        "### Load Packages"
      ]
    },
    {
      "cell_type": "code",
      "source": [
        "!pip install ndjson --quiet\n",
        "!pip install fastai --upgrade --quiet"
      ],
      "metadata": {
        "id": "7BBrSXz1KsOp",
        "outputId": "87b60466-8f7c-4f77-defb-0f3fe6de4d0c",
        "colab": {
          "base_uri": "https://localhost:8080/"
        }
      },
      "id": "7BBrSXz1KsOp",
      "execution_count": 1,
      "outputs": [
        {
          "output_type": "stream",
          "name": "stdout",
          "text": [
            "\u001b[K     |████████████████████████████████| 189 kB 4.2 MB/s \n",
            "\u001b[K     |████████████████████████████████| 55 kB 2.9 MB/s \n",
            "\u001b[?25h"
          ]
        }
      ]
    },
    {
      "cell_type": "code",
      "execution_count": 2,
      "id": "60fa0e0e",
      "metadata": {
        "id": "60fa0e0e"
      },
      "outputs": [],
      "source": [
        "import pandas as pd\n",
        "import ndjson\n",
        "from fastai.text.all import *\n",
        "from google.colab import drive"
      ]
    },
    {
      "cell_type": "markdown",
      "id": "0375f185",
      "metadata": {
        "id": "0375f185"
      },
      "source": [
        "### Load Datasets"
      ]
    },
    {
      "cell_type": "markdown",
      "id": "15000ae4",
      "metadata": {
        "id": "15000ae4"
      },
      "source": [
        "Training dataset"
      ]
    },
    {
      "cell_type": "code",
      "execution_count": null,
      "id": "710d8265",
      "metadata": {
        "scrolled": true,
        "id": "710d8265",
        "outputId": "f8a1c77d-50de-4072-9846-9bf858dfd7d6",
        "colab": {
          "base_uri": "https://localhost:8080/",
          "height": 1000
        }
      },
      "outputs": [
        {
          "output_type": "stream",
          "name": "stdout",
          "text": [
            "Mounted at /gdrive\n"
          ]
        },
        {
          "output_type": "execute_result",
          "data": {
            "text/html": [
              "\n",
              "  <div id=\"df-d4688d85-2c37-4f9a-b289-b5767247873b\">\n",
              "    <div class=\"colab-df-container\">\n",
              "      <div>\n",
              "<style scoped>\n",
              "    .dataframe tbody tr th:only-of-type {\n",
              "        vertical-align: middle;\n",
              "    }\n",
              "\n",
              "    .dataframe tbody tr th {\n",
              "        vertical-align: top;\n",
              "    }\n",
              "\n",
              "    .dataframe thead th {\n",
              "        text-align: right;\n",
              "    }\n",
              "</style>\n",
              "<table border=\"1\" class=\"dataframe\">\n",
              "  <thead>\n",
              "    <tr style=\"text-align: right;\">\n",
              "      <th></th>\n",
              "      <th>url</th>\n",
              "      <th>industry</th>\n",
              "      <th>industry_label</th>\n",
              "      <th>img_alt</th>\n",
              "      <th>h1</th>\n",
              "      <th>h2</th>\n",
              "      <th>h3</th>\n",
              "      <th>strong</th>\n",
              "      <th>bold</th>\n",
              "      <th>lang_code</th>\n",
              "      <th>figcaption</th>\n",
              "      <th>pure_text</th>\n",
              "      <th>title</th>\n",
              "      <th>concatenated</th>\n",
              "      <th>sentiment_analysis</th>\n",
              "    </tr>\n",
              "  </thead>\n",
              "  <tbody>\n",
              "    <tr>\n",
              "      <th>0</th>\n",
              "      <td>http://www.kaiser-personal-service.de</td>\n",
              "      <td>137</td>\n",
              "      <td>Human Resources</td>\n",
              "      <td></td>\n",
              "      <td></td>\n",
              "      <td>aktuell Stellenangebot</td>\n",
              "      <td></td>\n",
              "      <td></td>\n",
              "      <td></td>\n",
              "      <td>de</td>\n",
              "      <td></td>\n",
              "      <td>Kaiser Personal Service Impressum Datumenschutz Bewerbung Kp Darmstadt Kp Rheinland suchen Arbeit Staplerfahrer bewerben suchen Arbeit Verkäufer bewerben suchen Arbeit Telefonist bewerben aktuell Stellenangebot Standort wählen Kp Darmstadt Kp Rheinland Kcm Königsfeld Kommunikationselektronik Fernmeldemonteur Elektriker Elektronik Elektronik Raum Darmstadtab Sofortkennziffer Dafmjob Detailsstaplerfahrer Staplerfahrer Biebesheimab Sofortkennziffer Dastjob Detailsmitarbeiter Oberflächentechnik Helfer groß Umstadtab Sofortkennziffer Guotjob Detailssachbearbeiter Tz Zollkenntnissensachbearbeite...</td>\n",
              "      <td>Kaiser Personal Service</td>\n",
              "      <td>aktuell Stellenangebot    de  Kaiser Personal Service Impressum Datumenschutz Bewerbung Kp Darmstadt Kp Rheinland suchen Arbeit Staplerfahrer bewerben suchen Arbeit Verkäufer bewerben suchen Arbeit Telefonist bewerben aktuell Stellenangebot Standort wählen Kp Darmstadt Kp Rheinland Kcm Königsfeld Kommunikationselektronik Fernmeldemonteur Elektriker Elektronik Elektronik Raum Darmstadtab Sofortkennziffer Dafmjob Detailsstaplerfahrer Staplerfahrer Biebesheimab Sofortkennziffer Dastjob Detailsmitarbeiter Oberflächentechnik Helfer groß Umstadtab Sofortkennziffer Guotjob Detailssachbearbeiter...</td>\n",
              "      <td>0.00</td>\n",
              "    </tr>\n",
              "    <tr>\n",
              "      <th>1</th>\n",
              "      <td>http://www.brandseven.com</td>\n",
              "      <td>96</td>\n",
              "      <td>Information Technology and Services</td>\n",
              "      <td>Brandseven Energy Cockpit Innovation Lab Brandseven Go Remote Biohymethcontrol Online Präsentation</td>\n",
              "      <td>Maßgeschneiderte Vertriebstool Stadtwerk Evu s</td>\n",
              "      <td>Brandseven Go Remote Biohymethcontrol richtig erklären einfach Online Survival Analyse Kausales Modell Basisanalyse</td>\n",
              "      <td>Energy Cockpit Edition</td>\n",
              "      <td>Beispiel Gedankenexperiment Intervention Ergebnis</td>\n",
              "      <td></td>\n",
              "      <td>de</td>\n",
              "      <td></td>\n",
              "      <td>Brandseven digital Lösung Energiewirtschaft seit Jahr Inhalt springen Startenergy Cockpit Übersicht Customer Data Energy Price Energy lib Energy Sales Innovation Labüber Unspartnerjobskontakt Start Energy Cockpit Übersicht Customer Data Energy Price Energy lib Energy Sales Innovation Lab Partner Job Kontakt Energy Cockpit Edition Maßgeschneiderte Vertriebstool Stadtwerk Evu s Cloud basieren fortschrittlich Detail erfahren Energy Cockpit übernehmen Steuer Cloudbasierte Tools neu Bestandskunde Pricing Controlling Vertriebssteuerung vereinen Cockpit individuell anpassen erfahren Blick Kulisse...</td>\n",
              "      <td>Brandseven digital Lösung Energiewirtschaft seit Jahr</td>\n",
              "      <td>Brandseven Energy Cockpit Innovation Lab Brandseven Go Remote Biohymethcontrol Online Präsentation Maßgeschneiderte Vertriebstool Stadtwerk Evu s Brandseven Go Remote Biohymethcontrol richtig erklären einfach Online Survival Analyse Kausales Modell Basisanalyse Energy Cockpit Edition Beispiel Gedankenexperiment Intervention Ergebnis  de  Brandseven digital Lösung Energiewirtschaft seit Jahr Inhalt springen Startenergy Cockpit Übersicht Customer Data Energy Price Energy lib Energy Sales Innovation Labüber Unspartnerjobskontakt Start Energy Cockpit Übersicht Customer Data Energy Price Energy...</td>\n",
              "      <td>-0.11</td>\n",
              "    </tr>\n",
              "  </tbody>\n",
              "</table>\n",
              "</div>\n",
              "      <button class=\"colab-df-convert\" onclick=\"convertToInteractive('df-d4688d85-2c37-4f9a-b289-b5767247873b')\"\n",
              "              title=\"Convert this dataframe to an interactive table.\"\n",
              "              style=\"display:none;\">\n",
              "        \n",
              "  <svg xmlns=\"http://www.w3.org/2000/svg\" height=\"24px\"viewBox=\"0 0 24 24\"\n",
              "       width=\"24px\">\n",
              "    <path d=\"M0 0h24v24H0V0z\" fill=\"none\"/>\n",
              "    <path d=\"M18.56 5.44l.94 2.06.94-2.06 2.06-.94-2.06-.94-.94-2.06-.94 2.06-2.06.94zm-11 1L8.5 8.5l.94-2.06 2.06-.94-2.06-.94L8.5 2.5l-.94 2.06-2.06.94zm10 10l.94 2.06.94-2.06 2.06-.94-2.06-.94-.94-2.06-.94 2.06-2.06.94z\"/><path d=\"M17.41 7.96l-1.37-1.37c-.4-.4-.92-.59-1.43-.59-.52 0-1.04.2-1.43.59L10.3 9.45l-7.72 7.72c-.78.78-.78 2.05 0 2.83L4 21.41c.39.39.9.59 1.41.59.51 0 1.02-.2 1.41-.59l7.78-7.78 2.81-2.81c.8-.78.8-2.07 0-2.86zM5.41 20L4 18.59l7.72-7.72 1.47 1.35L5.41 20z\"/>\n",
              "  </svg>\n",
              "      </button>\n",
              "      \n",
              "  <style>\n",
              "    .colab-df-container {\n",
              "      display:flex;\n",
              "      flex-wrap:wrap;\n",
              "      gap: 12px;\n",
              "    }\n",
              "\n",
              "    .colab-df-convert {\n",
              "      background-color: #E8F0FE;\n",
              "      border: none;\n",
              "      border-radius: 50%;\n",
              "      cursor: pointer;\n",
              "      display: none;\n",
              "      fill: #1967D2;\n",
              "      height: 32px;\n",
              "      padding: 0 0 0 0;\n",
              "      width: 32px;\n",
              "    }\n",
              "\n",
              "    .colab-df-convert:hover {\n",
              "      background-color: #E2EBFA;\n",
              "      box-shadow: 0px 1px 2px rgba(60, 64, 67, 0.3), 0px 1px 3px 1px rgba(60, 64, 67, 0.15);\n",
              "      fill: #174EA6;\n",
              "    }\n",
              "\n",
              "    [theme=dark] .colab-df-convert {\n",
              "      background-color: #3B4455;\n",
              "      fill: #D2E3FC;\n",
              "    }\n",
              "\n",
              "    [theme=dark] .colab-df-convert:hover {\n",
              "      background-color: #434B5C;\n",
              "      box-shadow: 0px 1px 3px 1px rgba(0, 0, 0, 0.15);\n",
              "      filter: drop-shadow(0px 1px 2px rgba(0, 0, 0, 0.3));\n",
              "      fill: #FFFFFF;\n",
              "    }\n",
              "  </style>\n",
              "\n",
              "      <script>\n",
              "        const buttonEl =\n",
              "          document.querySelector('#df-d4688d85-2c37-4f9a-b289-b5767247873b button.colab-df-convert');\n",
              "        buttonEl.style.display =\n",
              "          google.colab.kernel.accessAllowed ? 'block' : 'none';\n",
              "\n",
              "        async function convertToInteractive(key) {\n",
              "          const element = document.querySelector('#df-d4688d85-2c37-4f9a-b289-b5767247873b');\n",
              "          const dataTable =\n",
              "            await google.colab.kernel.invokeFunction('convertToInteractive',\n",
              "                                                     [key], {});\n",
              "          if (!dataTable) return;\n",
              "\n",
              "          const docLinkHtml = 'Like what you see? Visit the ' +\n",
              "            '<a target=\"_blank\" href=https://colab.research.google.com/notebooks/data_table.ipynb>data table notebook</a>'\n",
              "            + ' to learn more about interactive tables.';\n",
              "          element.innerHTML = '';\n",
              "          dataTable['output_type'] = 'display_data';\n",
              "          await google.colab.output.renderOutput(dataTable, element);\n",
              "          const docLink = document.createElement('div');\n",
              "          docLink.innerHTML = docLinkHtml;\n",
              "          element.appendChild(docLink);\n",
              "        }\n",
              "      </script>\n",
              "    </div>\n",
              "  </div>\n",
              "  "
            ],
            "text/plain": [
              "                                     url  ...  sentiment_analysis\n",
              "0  http://www.kaiser-personal-service.de  ...                0.00\n",
              "1              http://www.brandseven.com  ...               -0.11\n",
              "\n",
              "[2 rows x 15 columns]"
            ]
          },
          "metadata": {},
          "execution_count": 3
        }
      ],
      "source": [
        "# Mount Google Drive\n",
        "drive.mount('/gdrive')\n",
        "path_train = Path('/gdrive/MyDrive/industry_data_processed/data/final/df_train_de_sentiment.ndjson')\n",
        "\n",
        "with open(path_train) as f:\n",
        "    data = ndjson.load(f)\n",
        "df_train = pd.DataFrame(data)\n",
        "df_train.head(n=2)"
      ]
    },
    {
      "cell_type": "markdown",
      "id": "c2a93216",
      "metadata": {
        "id": "c2a93216"
      },
      "source": [
        " Test dataset"
      ]
    },
    {
      "cell_type": "code",
      "execution_count": 3,
      "id": "65de7c44",
      "metadata": {
        "id": "65de7c44",
        "outputId": "9fc1379e-a377-4237-e1c1-782cf6ff77ae",
        "colab": {
          "base_uri": "https://localhost:8080/",
          "height": 1000
        }
      },
      "outputs": [
        {
          "output_type": "stream",
          "name": "stdout",
          "text": [
            "Mounted at /gdrive\n"
          ]
        },
        {
          "output_type": "execute_result",
          "data": {
            "text/html": [
              "\n",
              "  <div id=\"df-1729a093-bc55-46f8-9aa6-f34ad954c9f7\">\n",
              "    <div class=\"colab-df-container\">\n",
              "      <div>\n",
              "<style scoped>\n",
              "    .dataframe tbody tr th:only-of-type {\n",
              "        vertical-align: middle;\n",
              "    }\n",
              "\n",
              "    .dataframe tbody tr th {\n",
              "        vertical-align: top;\n",
              "    }\n",
              "\n",
              "    .dataframe thead th {\n",
              "        text-align: right;\n",
              "    }\n",
              "</style>\n",
              "<table border=\"1\" class=\"dataframe\">\n",
              "  <thead>\n",
              "    <tr style=\"text-align: right;\">\n",
              "      <th></th>\n",
              "      <th>url</th>\n",
              "      <th>industry</th>\n",
              "      <th>industry_label</th>\n",
              "      <th>img_alt</th>\n",
              "      <th>h1</th>\n",
              "      <th>h2</th>\n",
              "      <th>h3</th>\n",
              "      <th>strong</th>\n",
              "      <th>bold</th>\n",
              "      <th>lang_code</th>\n",
              "      <th>figcaption</th>\n",
              "      <th>pure_text</th>\n",
              "      <th>title</th>\n",
              "      <th>concatenated</th>\n",
              "      <th>sentiment_analysis</th>\n",
              "    </tr>\n",
              "  </thead>\n",
              "  <tbody>\n",
              "    <tr>\n",
              "      <th>0</th>\n",
              "      <td>http://www.expert.de</td>\n",
              "      <td>133</td>\n",
              "      <td>Wholesale</td>\n",
              "      <td>Expert Logo Expert Logo Expert Logo Angebot Woche Kw Angebot Woche Kw Angebot Woche Kw Angebot Woche Kw Angebot Woche Kw Angebot Woche Kw Angebot Woche Kw Bild Artikel Aktion Symbol v Motorhead Origin Akkuhandstaubsauger Artikel Aktion Symbol galaxy a Prism Crush Black Otelo Allnet Classic einmalig p Laufz Artikel Aktion Symbol galaxy Tab s leiden Wi fi Gray Tablet Workforce Wf Dwf Schwarz Multifunktionsdrucker Artikel Aktion Symbol Kaffeevollautomat Te f De Waschmaschine Wan Artikel Effizienz Skala Nespresso Kapselmaschine Env Vertuonext Basic Weiß Staubsauger compact Power Cyclonic Anima...</td>\n",
              "      <td></td>\n",
              "      <td>Highlight</td>\n",
              "      <td></td>\n",
              "      <td>registrieren Angebot Kinoerlebnis Haus kaufen Upgrade Homeoffice erfahren Toni ® kaufen gehören zusammen sparen kaufen perfekt Wäsche Umwelt kaufen Happy Payday erfahren Rabatt Microsoft Family sichern kaufen neu Expert Reparaturservice Mobilgeräte ganz bequem Online abwickeln work From Home Sonos Roam Bosch Cashback Kartenzahlung leicht machen Lg Soundbar kaufen Samsung Neo Qled aktuell Aktion Gewinnspiel Techniktrend Experte Beratung Reparatur Service Montag Service Finanzierung Service Altgerät Entsorgung liefern Abholservice Expert Vorteil Expert Newsletter kostenlos Registrierung Akze...</td>\n",
              "      <td></td>\n",
              "      <td>de</td>\n",
              "      <td></td>\n",
              "      <td>Elektromarkt Nähe Online Shop Expert Warenkorb Liegen Artikel Warenkorb Warenkorb Warenkorb Liegen Artikel Warenkorb Warenkorb Fachmarkt Fachmarkt auswählen Fachmarkt finden Warenkorb Liegen Artikel Warenkorb Warenkorb Produkt Tv Audio Fernseher Lcd Led Fernseher Oled Tv Qled Tv Nanocell Tv Beamer Beamer Zubehör Tv Halterung Tv Stand Hdmi Switches splittern Fernbedienung Ir Verlängerung Brille Streaming Player Tv Zubehör Dvd Blu Ray Player k Blu Ray Player Blu Ray Player Rekord Dvd Player Rekord tragbar Dvd Player Empfangstechnik Sat Receiver Dvb T Receiver Kabel Receiver Ip Tv Mediaboxen ...</td>\n",
              "      <td>Elektromarkt Nähe Online Shop Expert</td>\n",
              "      <td>Expert Logo Expert Logo Expert Logo Angebot Woche Kw Angebot Woche Kw Angebot Woche Kw Angebot Woche Kw Angebot Woche Kw Angebot Woche Kw Angebot Woche Kw Bild Artikel Aktion Symbol v Motorhead Origin Akkuhandstaubsauger Artikel Aktion Symbol galaxy a Prism Crush Black Otelo Allnet Classic einmalig p Laufz Artikel Aktion Symbol galaxy Tab s leiden Wi fi Gray Tablet Workforce Wf Dwf Schwarz Multifunktionsdrucker Artikel Aktion Symbol Kaffeevollautomat Te f De Waschmaschine Wan Artikel Effizienz Skala Nespresso Kapselmaschine Env Vertuonext Basic Weiß Staubsauger compact Power Cyclonic Anima...</td>\n",
              "      <td>0.31</td>\n",
              "    </tr>\n",
              "    <tr>\n",
              "      <th>1</th>\n",
              "      <td>http://www.weight-watchers.de</td>\n",
              "      <td>13</td>\n",
              "      <td>Medical Practice</td>\n",
              "      <td>neu Meinww Meinww mobil Vorschau Fiton Video Workouts ww App mobil Vorschau Rezept ww App mobil Vorschau Mitglied Post ww Community mobil Vorschau individuell Zielsetzung ww App mobil Vorschau Fiton Video Workouts ww App mobil Vorschau Rezept ww App mobil Vorschau Mitglied Post ww Community mobil Vorschau individuell Zielsetzung ww App mobil Vorschau Fiton Video Workouts ww App mobil Vorschau Rezept ww App Junge Frau blond Haaren sitzen lächelnd Handy Hand Junge Frau Rote Haaren lang Rock halten Kaffeebecher Hand Frau lang Haar stehen Küche schneiden Kürbis sportlich gekleidet Frau stehen ...</td>\n",
              "      <td>abnehmen ww Weight Watchers ww Deutschland</td>\n",
              "      <td>kurz Zeit Studios Ort vorübergehend schließen Workshop Lauf wohnen virtuell Termin Workshop Suche haben Frage Antwort</td>\n",
              "      <td>bereit loslegen Mitglied vormachen</td>\n",
              "      <td>ww App kurz Zeit Monat kostenlos ww Pro “ exklusiv Community live On demand Premiuminhalte kurz Zeit Monat kostenlos ww Coach Workshop Ort Studio virtuell kurz Zeit Monat kostenlos Neue Fragebogen individuell Bedürfnis Vorliebe abstimmen</td>\n",
              "      <td></td>\n",
              "      <td>de</td>\n",
              "      <td></td>\n",
              "      <td>abnehmen ww Weight Watchers ww Deutschland direkt Inhaltzum Ende Seiteso funktionieren Spreiserezepte Tippsworkshop Findenshoplog Instartenso funktionieren Smeinww Essenbewegenmindsetschlaferfolgefreunde Einladenpreisedigital Digital Unlimited Workshop Digitalrezepte Tippsworkshop Findenworkshop Nähevirtueller Workshopshoplog Instartenabnehmen ww Weight Watchers ww Deutschlandjetzt Startennur kurz Zeit Monat kostenlos Start Monat kostenlos Startenstarte schwungvoll Frühling Preisgekrönten Abnahmeprogramm erzählen unterstützen dabei Ziel Erreichen Fragebogendirekt ww Start Mitglied Vorgänge...</td>\n",
              "      <td>abnehmen ww Weight Watchers ww Deutschland</td>\n",
              "      <td>neu Meinww Meinww mobil Vorschau Fiton Video Workouts ww App mobil Vorschau Rezept ww App mobil Vorschau Mitglied Post ww Community mobil Vorschau individuell Zielsetzung ww App mobil Vorschau Fiton Video Workouts ww App mobil Vorschau Rezept ww App mobil Vorschau Mitglied Post ww Community mobil Vorschau individuell Zielsetzung ww App mobil Vorschau Fiton Video Workouts ww App mobil Vorschau Rezept ww App Junge Frau blond Haaren sitzen lächelnd Handy Hand Junge Frau Rote Haaren lang Rock halten Kaffeebecher Hand Frau lang Haar stehen Küche schneiden Kürbis sportlich gekleidet Frau stehen ...</td>\n",
              "      <td>0.12</td>\n",
              "    </tr>\n",
              "  </tbody>\n",
              "</table>\n",
              "</div>\n",
              "      <button class=\"colab-df-convert\" onclick=\"convertToInteractive('df-1729a093-bc55-46f8-9aa6-f34ad954c9f7')\"\n",
              "              title=\"Convert this dataframe to an interactive table.\"\n",
              "              style=\"display:none;\">\n",
              "        \n",
              "  <svg xmlns=\"http://www.w3.org/2000/svg\" height=\"24px\"viewBox=\"0 0 24 24\"\n",
              "       width=\"24px\">\n",
              "    <path d=\"M0 0h24v24H0V0z\" fill=\"none\"/>\n",
              "    <path d=\"M18.56 5.44l.94 2.06.94-2.06 2.06-.94-2.06-.94-.94-2.06-.94 2.06-2.06.94zm-11 1L8.5 8.5l.94-2.06 2.06-.94-2.06-.94L8.5 2.5l-.94 2.06-2.06.94zm10 10l.94 2.06.94-2.06 2.06-.94-2.06-.94-.94-2.06-.94 2.06-2.06.94z\"/><path d=\"M17.41 7.96l-1.37-1.37c-.4-.4-.92-.59-1.43-.59-.52 0-1.04.2-1.43.59L10.3 9.45l-7.72 7.72c-.78.78-.78 2.05 0 2.83L4 21.41c.39.39.9.59 1.41.59.51 0 1.02-.2 1.41-.59l7.78-7.78 2.81-2.81c.8-.78.8-2.07 0-2.86zM5.41 20L4 18.59l7.72-7.72 1.47 1.35L5.41 20z\"/>\n",
              "  </svg>\n",
              "      </button>\n",
              "      \n",
              "  <style>\n",
              "    .colab-df-container {\n",
              "      display:flex;\n",
              "      flex-wrap:wrap;\n",
              "      gap: 12px;\n",
              "    }\n",
              "\n",
              "    .colab-df-convert {\n",
              "      background-color: #E8F0FE;\n",
              "      border: none;\n",
              "      border-radius: 50%;\n",
              "      cursor: pointer;\n",
              "      display: none;\n",
              "      fill: #1967D2;\n",
              "      height: 32px;\n",
              "      padding: 0 0 0 0;\n",
              "      width: 32px;\n",
              "    }\n",
              "\n",
              "    .colab-df-convert:hover {\n",
              "      background-color: #E2EBFA;\n",
              "      box-shadow: 0px 1px 2px rgba(60, 64, 67, 0.3), 0px 1px 3px 1px rgba(60, 64, 67, 0.15);\n",
              "      fill: #174EA6;\n",
              "    }\n",
              "\n",
              "    [theme=dark] .colab-df-convert {\n",
              "      background-color: #3B4455;\n",
              "      fill: #D2E3FC;\n",
              "    }\n",
              "\n",
              "    [theme=dark] .colab-df-convert:hover {\n",
              "      background-color: #434B5C;\n",
              "      box-shadow: 0px 1px 3px 1px rgba(0, 0, 0, 0.15);\n",
              "      filter: drop-shadow(0px 1px 2px rgba(0, 0, 0, 0.3));\n",
              "      fill: #FFFFFF;\n",
              "    }\n",
              "  </style>\n",
              "\n",
              "      <script>\n",
              "        const buttonEl =\n",
              "          document.querySelector('#df-1729a093-bc55-46f8-9aa6-f34ad954c9f7 button.colab-df-convert');\n",
              "        buttonEl.style.display =\n",
              "          google.colab.kernel.accessAllowed ? 'block' : 'none';\n",
              "\n",
              "        async function convertToInteractive(key) {\n",
              "          const element = document.querySelector('#df-1729a093-bc55-46f8-9aa6-f34ad954c9f7');\n",
              "          const dataTable =\n",
              "            await google.colab.kernel.invokeFunction('convertToInteractive',\n",
              "                                                     [key], {});\n",
              "          if (!dataTable) return;\n",
              "\n",
              "          const docLinkHtml = 'Like what you see? Visit the ' +\n",
              "            '<a target=\"_blank\" href=https://colab.research.google.com/notebooks/data_table.ipynb>data table notebook</a>'\n",
              "            + ' to learn more about interactive tables.';\n",
              "          element.innerHTML = '';\n",
              "          dataTable['output_type'] = 'display_data';\n",
              "          await google.colab.output.renderOutput(dataTable, element);\n",
              "          const docLink = document.createElement('div');\n",
              "          docLink.innerHTML = docLinkHtml;\n",
              "          element.appendChild(docLink);\n",
              "        }\n",
              "      </script>\n",
              "    </div>\n",
              "  </div>\n",
              "  "
            ],
            "text/plain": [
              "                             url  ...  sentiment_analysis\n",
              "0           http://www.expert.de  ...                0.31\n",
              "1  http://www.weight-watchers.de  ...                0.12\n",
              "\n",
              "[2 rows x 15 columns]"
            ]
          },
          "metadata": {},
          "execution_count": 3
        }
      ],
      "source": [
        "# Mount Google Drive\n",
        "drive.mount('/gdrive')\n",
        "path_test = Path('/gdrive/MyDrive/industry_data_processed/data/final/df_test_de_sentiment.ndjson')\n",
        "\n",
        "with open(path_test) as f:\n",
        "    data = ndjson.load(f)\n",
        "df_test = pd.DataFrame(data)\n",
        "df_test.head(n=2)"
      ]
    },
    {
      "cell_type": "markdown",
      "id": "eb3ccebd",
      "metadata": {
        "id": "eb3ccebd"
      },
      "source": [
        "### Build Model"
      ]
    },
    {
      "cell_type": "markdown",
      "id": "1334e3c0",
      "metadata": {
        "id": "1334e3c0"
      },
      "source": [
        "#### Preperation"
      ]
    },
    {
      "cell_type": "code",
      "source": [
        "path_df = '/gdrive/MyDrive/industry_data_processed/data/final/df_train_de_sentiment.ndjson'\n",
        "path_model = '/gdrive/MyDrive/industry_data_processed/models/dl_fastai/'"
      ],
      "metadata": {
        "id": "joo8TcbCdSek"
      },
      "id": "joo8TcbCdSek",
      "execution_count": null,
      "outputs": []
    },
    {
      "cell_type": "markdown",
      "source": [
        "Thes `Transfer-Learner` will be trained on the `pure_text` column and the `sentiment_analysis`. "
      ],
      "metadata": {
        "id": "8Tp2HORp-IYc"
      },
      "id": "8Tp2HORp-IYc"
    },
    {
      "cell_type": "code",
      "source": [
        "predicting_cols = ['pure_text', 'sentiment_analysis']"
      ],
      "metadata": {
        "id": "XQ9oBfzteOhe"
      },
      "id": "XQ9oBfzteOhe",
      "execution_count": 13,
      "outputs": []
    },
    {
      "cell_type": "markdown",
      "source": [
        "Create `DataLoader` for the first pretrained model: `Language-Model-learner`\n",
        "\n",
        "Since we are using a `Language-Model-learner` we have to set `is_lm=True`"
      ],
      "metadata": {
        "id": "-oJ2UpOB1f1V"
      },
      "id": "-oJ2UpOB1f1V"
    },
    {
      "cell_type": "code",
      "source": [
        "dls_lang = TextDataLoaders.from_df(\n",
        "    df=df_train,\n",
        "    is_lm=True,\n",
        "    bs=32,\n",
        "    path=path_df,\n",
        "    text_col=predicting_cols,\n",
        "    label_col='industry_label',\n",
        "    seed=25,\n",
        "    valid_pct=0.2\n",
        ")"
      ],
      "metadata": {
        "id": "uyILisz61es5",
        "outputId": "4e47894c-b4be-489c-fc97-7ff8cf0aafe2",
        "colab": {
          "base_uri": "https://localhost:8080/",
          "height": 18
        }
      },
      "id": "uyILisz61es5",
      "execution_count": null,
      "outputs": [
        {
          "output_type": "display_data",
          "data": {
            "text/html": [
              "\n",
              "<style>\n",
              "    /* Turns off some styling */\n",
              "    progress {\n",
              "        /* gets rid of default border in Firefox and Opera. */\n",
              "        border: none;\n",
              "        /* Needs to be in here for Safari polyfill so background images work as expected. */\n",
              "        background-size: auto;\n",
              "    }\n",
              "    .progress-bar-interrupted, .progress-bar-interrupted::-webkit-progress-bar {\n",
              "        background: #F44336;\n",
              "    }\n",
              "</style>\n"
            ],
            "text/plain": [
              "<IPython.core.display.HTML object>"
            ]
          },
          "metadata": {}
        },
        {
          "output_type": "display_data",
          "data": {
            "text/html": [
              ""
            ],
            "text/plain": [
              "<IPython.core.display.HTML object>"
            ]
          },
          "metadata": {}
        }
      ]
    },
    {
      "cell_type": "markdown",
      "source": [
        "Create `Language-Model-Learner`\n",
        "\n",
        "For both learners we will be using the `AWD_LSTM` model."
      ],
      "metadata": {
        "id": "QwH3IOmx1mzO"
      },
      "id": "QwH3IOmx1mzO"
    },
    {
      "cell_type": "code",
      "source": [
        "learn_lang = language_model_learner(dls_lang, AWD_LSTM, metrics=accuracy, path=path_model)"
      ],
      "metadata": {
        "id": "z3xfK4DR1mGw",
        "outputId": "de9bc50f-9735-4e1f-d2d1-ea80442a1dbe",
        "colab": {
          "base_uri": "https://localhost:8080/",
          "height": 38
        }
      },
      "id": "z3xfK4DR1mGw",
      "execution_count": null,
      "outputs": [
        {
          "output_type": "display_data",
          "data": {
            "text/html": [
              "\n",
              "<style>\n",
              "    /* Turns off some styling */\n",
              "    progress {\n",
              "        /* gets rid of default border in Firefox and Opera. */\n",
              "        border: none;\n",
              "        /* Needs to be in here for Safari polyfill so background images work as expected. */\n",
              "        background-size: auto;\n",
              "    }\n",
              "    .progress-bar-interrupted, .progress-bar-interrupted::-webkit-progress-bar {\n",
              "        background: #F44336;\n",
              "    }\n",
              "</style>\n"
            ],
            "text/plain": [
              "<IPython.core.display.HTML object>"
            ]
          },
          "metadata": {}
        },
        {
          "output_type": "display_data",
          "data": {
            "text/html": [
              "\n",
              "    <div>\n",
              "      <progress value='105070592' class='' max='105067061' style='width:300px; height:20px; vertical-align: middle;'></progress>\n",
              "      100.00% [105070592/105067061 00:03<00:00]\n",
              "    </div>\n",
              "    "
            ],
            "text/plain": [
              "<IPython.core.display.HTML object>"
            ]
          },
          "metadata": {}
        }
      ]
    },
    {
      "cell_type": "code",
      "source": [
        "learn_lang.lr_find()"
      ],
      "metadata": {
        "id": "w7oYVkF7elTE",
        "outputId": "0f84dc39-2abe-49bd-e228-71cf82c4d845",
        "colab": {
          "base_uri": "https://localhost:8080/",
          "height": 300
        }
      },
      "id": "w7oYVkF7elTE",
      "execution_count": null,
      "outputs": [
        {
          "output_type": "display_data",
          "data": {
            "text/html": [
              "\n",
              "<style>\n",
              "    /* Turns off some styling */\n",
              "    progress {\n",
              "        /* gets rid of default border in Firefox and Opera. */\n",
              "        border: none;\n",
              "        /* Needs to be in here for Safari polyfill so background images work as expected. */\n",
              "        background-size: auto;\n",
              "    }\n",
              "    .progress-bar-interrupted, .progress-bar-interrupted::-webkit-progress-bar {\n",
              "        background: #F44336;\n",
              "    }\n",
              "</style>\n"
            ],
            "text/plain": [
              "<IPython.core.display.HTML object>"
            ]
          },
          "metadata": {}
        },
        {
          "output_type": "display_data",
          "data": {
            "text/html": [
              ""
            ],
            "text/plain": [
              "<IPython.core.display.HTML object>"
            ]
          },
          "metadata": {}
        },
        {
          "output_type": "execute_result",
          "data": {
            "text/plain": [
              "SuggestedLRs(valley=0.010964781977236271)"
            ]
          },
          "metadata": {},
          "execution_count": 8
        },
        {
          "output_type": "display_data",
          "data": {
            "image/png": "[encoded data removed]",
            "text/plain": [
              "<Figure size 432x288 with 1 Axes>"
            ]
          },
          "metadata": {
            "needs_background": "light"
          }
        }
      ]
    },
    {
      "cell_type": "code",
      "source": [
        "learn_lang.fit_one_cycle(1, 1e-2)"
      ],
      "metadata": {
        "id": "ND0ZjrdV11EX",
        "outputId": "043891e6-ac85-4e84-b07e-dd48a6dcd7bb",
        "colab": {
          "base_uri": "https://localhost:8080/",
          "height": 80
        }
      },
      "id": "ND0ZjrdV11EX",
      "execution_count": null,
      "outputs": [
        {
          "output_type": "display_data",
          "data": {
            "text/html": [
              "\n",
              "<style>\n",
              "    /* Turns off some styling */\n",
              "    progress {\n",
              "        /* gets rid of default border in Firefox and Opera. */\n",
              "        border: none;\n",
              "        /* Needs to be in here for Safari polyfill so background images work as expected. */\n",
              "        background-size: auto;\n",
              "    }\n",
              "    .progress-bar-interrupted, .progress-bar-interrupted::-webkit-progress-bar {\n",
              "        background: #F44336;\n",
              "    }\n",
              "</style>\n"
            ],
            "text/plain": [
              "<IPython.core.display.HTML object>"
            ]
          },
          "metadata": {}
        },
        {
          "output_type": "display_data",
          "data": {
            "text/html": [
              "<table border=\"1\" class=\"dataframe\">\n",
              "  <thead>\n",
              "    <tr style=\"text-align: left;\">\n",
              "      <th>epoch</th>\n",
              "      <th>train_loss</th>\n",
              "      <th>valid_loss</th>\n",
              "      <th>accuracy</th>\n",
              "      <th>time</th>\n",
              "    </tr>\n",
              "  </thead>\n",
              "  <tbody>\n",
              "    <tr>\n",
              "      <td>0</td>\n",
              "      <td>3.952515</td>\n",
              "      <td>3.808471</td>\n",
              "      <td>0.510751</td>\n",
              "      <td>20:27</td>\n",
              "    </tr>\n",
              "  </tbody>\n",
              "</table>"
            ],
            "text/plain": [
              "<IPython.core.display.HTML object>"
            ]
          },
          "metadata": {}
        }
      ]
    },
    {
      "cell_type": "markdown",
      "source": [
        "Unfreeze `Language-Model-Learner` for finetuning:"
      ],
      "metadata": {
        "id": "S9iCcap3e55g"
      },
      "id": "S9iCcap3e55g"
    },
    {
      "cell_type": "code",
      "source": [
        "learn_lang.unfreeze()"
      ],
      "metadata": {
        "id": "I05zcYvhe5Qq"
      },
      "id": "I05zcYvhe5Qq",
      "execution_count": null,
      "outputs": []
    },
    {
      "cell_type": "code",
      "source": [
        "learn_lang.fit(8, 1e-2)\n",
        "learn_lang.save_encoder('learn_lang_de_sent')"
      ],
      "metadata": {
        "id": "wgafBJrofDQT",
        "outputId": "e0851297-50d2-4ea7-85f1-d67ad249da7f",
        "colab": {
          "base_uri": "https://localhost:8080/",
          "height": 553
        }
      },
      "id": "wgafBJrofDQT",
      "execution_count": null,
      "outputs": [
        {
          "data": {
            "text/html": [
              "\n",
              "<style>\n",
              "    /* Turns off some styling */\n",
              "    progress {\n",
              "        /* gets rid of default border in Firefox and Opera. */\n",
              "        border: none;\n",
              "        /* Needs to be in here for Safari polyfill so background images work as expected. */\n",
              "        background-size: auto;\n",
              "    }\n",
              "    .progress-bar-interrupted, .progress-bar-interrupted::-webkit-progress-bar {\n",
              "        background: #F44336;\n",
              "    }\n",
              "</style>\n"
            ],
            "text/plain": [
              "<IPython.core.display.HTML object>"
            ]
          },
          "metadata": {},
          "output_type": "display_data"
        },
        {
          "data": {
            "text/html": [
              "\n",
              "    <div>\n",
              "      <progress value='6' class='' max='8' style='width:300px; height:20px; vertical-align: middle;'></progress>\n",
              "      75.00% [6/8 2:13:11<44:23]\n",
              "    </div>\n",
              "    \n",
              "<table border=\"1\" class=\"dataframe\">\n",
              "  <thead>\n",
              "    <tr style=\"text-align: left;\">\n",
              "      <th>epoch</th>\n",
              "      <th>train_loss</th>\n",
              "      <th>valid_loss</th>\n",
              "      <th>accuracy</th>\n",
              "      <th>time</th>\n",
              "    </tr>\n",
              "  </thead>\n",
              "  <tbody>\n",
              "    <tr>\n",
              "      <td>0</td>\n",
              "      <td>3.640649</td>\n",
              "      <td>3.903164</td>\n",
              "      <td>0.506584</td>\n",
              "      <td>22:05</td>\n",
              "    </tr>\n",
              "    <tr>\n",
              "      <td>1</td>\n",
              "      <td>3.701613</td>\n",
              "      <td>3.809738</td>\n",
              "      <td>0.511625</td>\n",
              "      <td>22:14</td>\n",
              "    </tr>\n",
              "    <tr>\n",
              "      <td>2</td>\n",
              "      <td>3.625432</td>\n",
              "      <td>3.770810</td>\n",
              "      <td>0.514406</td>\n",
              "      <td>22:25</td>\n",
              "    </tr>\n",
              "    <tr>\n",
              "      <td>3</td>\n",
              "      <td>3.573737</td>\n",
              "      <td>3.749691</td>\n",
              "      <td>0.515890</td>\n",
              "      <td>22:04</td>\n",
              "    </tr>\n",
              "    <tr>\n",
              "      <td>4</td>\n",
              "      <td>3.601388</td>\n",
              "      <td>3.741146</td>\n",
              "      <td>0.516864</td>\n",
              "      <td>22:00</td>\n",
              "    </tr>\n",
              "    <tr>\n",
              "      <td>5</td>\n",
              "      <td>3.584799</td>\n",
              "      <td>3.734267</td>\n",
              "      <td>0.517183</td>\n",
              "      <td>22:21</td>\n",
              "    </tr>\n",
              "  </tbody>\n",
              "</table><p>\n",
              "\n",
              "    <div>\n",
              "      <progress value='253' class='' max='1321' style='width:300px; height:20px; vertical-align: middle;'></progress>\n",
              "      19.15% [253/1321 00:25<01:47 3.5718]\n",
              "    </div>\n",
              "    "
            ],
            "text/plain": [
              "<IPython.core.display.HTML object>"
            ]
          },
          "metadata": {},
          "output_type": "display_data"
        },
        {
          "output_type": "display_data",
          "data": {
            "text/html": [
              "<table border=\"1\" class=\"dataframe\">\n",
              "  <thead>\n",
              "    <tr style=\"text-align: left;\">\n",
              "      <th>epoch</th>\n",
              "      <th>train_loss</th>\n",
              "      <th>valid_loss</th>\n",
              "      <th>accuracy</th>\n",
              "      <th>time</th>\n",
              "    </tr>\n",
              "  </thead>\n",
              "  <tbody>\n",
              "    <tr>\n",
              "      <td>0</td>\n",
              "      <td>3.640649</td>\n",
              "      <td>3.903164</td>\n",
              "      <td>0.506584</td>\n",
              "      <td>22:05</td>\n",
              "    </tr>\n",
              "    <tr>\n",
              "      <td>1</td>\n",
              "      <td>3.701613</td>\n",
              "      <td>3.809738</td>\n",
              "      <td>0.511625</td>\n",
              "      <td>22:14</td>\n",
              "    </tr>\n",
              "    <tr>\n",
              "      <td>2</td>\n",
              "      <td>3.625432</td>\n",
              "      <td>3.770810</td>\n",
              "      <td>0.514406</td>\n",
              "      <td>22:25</td>\n",
              "    </tr>\n",
              "    <tr>\n",
              "      <td>3</td>\n",
              "      <td>3.573737</td>\n",
              "      <td>3.749691</td>\n",
              "      <td>0.515890</td>\n",
              "      <td>22:04</td>\n",
              "    </tr>\n",
              "    <tr>\n",
              "      <td>4</td>\n",
              "      <td>3.601388</td>\n",
              "      <td>3.741146</td>\n",
              "      <td>0.516864</td>\n",
              "      <td>22:00</td>\n",
              "    </tr>\n",
              "    <tr>\n",
              "      <td>5</td>\n",
              "      <td>3.584799</td>\n",
              "      <td>3.734267</td>\n",
              "      <td>0.517183</td>\n",
              "      <td>22:21</td>\n",
              "    </tr>\n",
              "    <tr>\n",
              "      <td>6</td>\n",
              "      <td>3.571754</td>\n",
              "      <td>3.726374</td>\n",
              "      <td>0.518044</td>\n",
              "      <td>22:24</td>\n",
              "    </tr>\n",
              "    <tr>\n",
              "      <td>7</td>\n",
              "      <td>3.390404</td>\n",
              "      <td>3.721374</td>\n",
              "      <td>0.518166</td>\n",
              "      <td>22:36</td>\n",
              "    </tr>\n",
              "  </tbody>\n",
              "</table>"
            ],
            "text/plain": [
              "<IPython.core.display.HTML object>"
            ]
          },
          "metadata": {}
        }
      ]
    },
    {
      "cell_type": "markdown",
      "source": [
        "Create `DataLoader` for `Text-Classifier-Learner`\n",
        "\n",
        "To train the `Text-Classifier-Learner` on the same vocab as the `Language-Model-Learner` use: `dls_lang.vocab`"
      ],
      "metadata": {
        "id": "r0eyEvhK0UA3"
      },
      "id": "r0eyEvhK0UA3"
    },
    {
      "cell_type": "code",
      "source": [
        "dls_class = TextDataLoaders.from_df(\n",
        "    df=df_train,\n",
        "    text_vocab=dls_lang.vocab,\n",
        "    bs=32,\n",
        "    path=path_df,\n",
        "    text_col=predicting_cols,\n",
        "    label_col='industry_label',\n",
        "    seed=25,\n",
        "    valid_pct=0.2\n",
        ")"
      ],
      "metadata": {
        "id": "WWI_WozqKeED",
        "outputId": "cf9c4e41-a9c4-4112-974b-c83f4c972e87",
        "colab": {
          "base_uri": "https://localhost:8080/",
          "height": 18
        }
      },
      "id": "WWI_WozqKeED",
      "execution_count": null,
      "outputs": [
        {
          "output_type": "display_data",
          "data": {
            "text/html": [
              "\n",
              "<style>\n",
              "    /* Turns off some styling */\n",
              "    progress {\n",
              "        /* gets rid of default border in Firefox and Opera. */\n",
              "        border: none;\n",
              "        /* Needs to be in here for Safari polyfill so background images work as expected. */\n",
              "        background-size: auto;\n",
              "    }\n",
              "    .progress-bar-interrupted, .progress-bar-interrupted::-webkit-progress-bar {\n",
              "        background: #F44336;\n",
              "    }\n",
              "</style>\n"
            ],
            "text/plain": [
              "<IPython.core.display.HTML object>"
            ]
          },
          "metadata": {}
        },
        {
          "output_type": "display_data",
          "data": {
            "text/html": [
              ""
            ],
            "text/plain": [
              "<IPython.core.display.HTML object>"
            ]
          },
          "metadata": {}
        }
      ]
    },
    {
      "cell_type": "markdown",
      "source": [
        "Create `Text-Classifier-Learner`"
      ],
      "metadata": {
        "id": "oSq4tWqXfcpO"
      },
      "id": "oSq4tWqXfcpO"
    },
    {
      "cell_type": "code",
      "execution_count": null,
      "id": "4218fd95",
      "metadata": {
        "id": "4218fd95"
      },
      "outputs": [],
      "source": [
        "learn_class = text_classifier_learner(dls_class, AWD_LSTM, metrics=accuracy,  path=path_model)"
      ]
    },
    {
      "cell_type": "markdown",
      "source": [
        "Create `Transfer-Learner` \n",
        "<br/>Therefore we have to load the previously saved `Encoder` of the `Language-Model-Learner` onto the `Text-Classifier-Learner`"
      ],
      "metadata": {
        "id": "tbVtHwgQow50"
      },
      "id": "tbVtHwgQow50"
    },
    {
      "cell_type": "code",
      "source": [
        "learn_class = learn_class.load_encoder('learn_lang_de_sent')"
      ],
      "metadata": {
        "id": "tRigaEgXLtvm"
      },
      "id": "tRigaEgXLtvm",
      "execution_count": null,
      "outputs": []
    },
    {
      "cell_type": "code",
      "execution_count": null,
      "id": "42ee5342",
      "metadata": {
        "id": "42ee5342",
        "outputId": "7ac3d848-4a96-4978-a12a-d083c905931d",
        "colab": {
          "base_uri": "https://localhost:8080/",
          "height": 300
        }
      },
      "outputs": [
        {
          "output_type": "display_data",
          "data": {
            "text/html": [
              "\n",
              "<style>\n",
              "    /* Turns off some styling */\n",
              "    progress {\n",
              "        /* gets rid of default border in Firefox and Opera. */\n",
              "        border: none;\n",
              "        /* Needs to be in here for Safari polyfill so background images work as expected. */\n",
              "        background-size: auto;\n",
              "    }\n",
              "    .progress-bar-interrupted, .progress-bar-interrupted::-webkit-progress-bar {\n",
              "        background: #F44336;\n",
              "    }\n",
              "</style>\n"
            ],
            "text/plain": [
              "<IPython.core.display.HTML object>"
            ]
          },
          "metadata": {}
        },
        {
          "output_type": "display_data",
          "data": {
            "text/html": [
              ""
            ],
            "text/plain": [
              "<IPython.core.display.HTML object>"
            ]
          },
          "metadata": {}
        },
        {
          "output_type": "execute_result",
          "data": {
            "text/plain": [
              "SuggestedLRs(valley=0.0014454397605732083)"
            ]
          },
          "metadata": {},
          "execution_count": 16
        },
        {
          "output_type": "display_data",
          "data": {
            "image/png": "[encoded data removed]",
            "text/plain": [
              "<Figure size 432x288 with 1 Axes>"
            ]
          },
          "metadata": {
            "needs_background": "light"
          }
        }
      ],
      "source": [
        "learn_class.lr_find()"
      ]
    },
    {
      "cell_type": "code",
      "source": [
        "learn_class.fit(1, 1e-3)"
      ],
      "metadata": {
        "id": "ZFT3EyZ_ZTb3",
        "outputId": "b366818a-6d05-4f50-e8bf-ccc01d5efab6",
        "colab": {
          "base_uri": "https://localhost:8080/",
          "height": 80
        }
      },
      "id": "ZFT3EyZ_ZTb3",
      "execution_count": null,
      "outputs": [
        {
          "output_type": "display_data",
          "data": {
            "text/html": [
              "\n",
              "<style>\n",
              "    /* Turns off some styling */\n",
              "    progress {\n",
              "        /* gets rid of default border in Firefox and Opera. */\n",
              "        border: none;\n",
              "        /* Needs to be in here for Safari polyfill so background images work as expected. */\n",
              "        background-size: auto;\n",
              "    }\n",
              "    .progress-bar-interrupted, .progress-bar-interrupted::-webkit-progress-bar {\n",
              "        background: #F44336;\n",
              "    }\n",
              "</style>\n"
            ],
            "text/plain": [
              "<IPython.core.display.HTML object>"
            ]
          },
          "metadata": {}
        },
        {
          "output_type": "display_data",
          "data": {
            "text/html": [
              "<table border=\"1\" class=\"dataframe\">\n",
              "  <thead>\n",
              "    <tr style=\"text-align: left;\">\n",
              "      <th>epoch</th>\n",
              "      <th>train_loss</th>\n",
              "      <th>valid_loss</th>\n",
              "      <th>accuracy</th>\n",
              "      <th>time</th>\n",
              "    </tr>\n",
              "  </thead>\n",
              "  <tbody>\n",
              "    <tr>\n",
              "      <td>0</td>\n",
              "      <td>1.013262</td>\n",
              "      <td>0.908331</td>\n",
              "      <td>0.720321</td>\n",
              "      <td>03:38</td>\n",
              "    </tr>\n",
              "  </tbody>\n",
              "</table>"
            ],
            "text/plain": [
              "<IPython.core.display.HTML object>"
            ]
          },
          "metadata": {}
        }
      ]
    },
    {
      "cell_type": "markdown",
      "source": [
        "Since the first fit looks promessing we will unfreeze the model layer by layer and continue fitting."
      ],
      "metadata": {
        "id": "oh0qSJ_A_Mix"
      },
      "id": "oh0qSJ_A_Mix"
    },
    {
      "cell_type": "code",
      "source": [
        "learn_class.freeze_to(-2)\n",
        "learn_class.fit_one_cycle(1, slice(1e-2/(2.6**4),1e-3))"
      ],
      "metadata": {
        "id": "WmsxVM-_gQ14",
        "outputId": "000b8b56-4c8d-458a-b662-24dbe44ce009",
        "colab": {
          "base_uri": "https://localhost:8080/",
          "height": 80
        }
      },
      "id": "WmsxVM-_gQ14",
      "execution_count": null,
      "outputs": [
        {
          "output_type": "display_data",
          "data": {
            "text/html": [
              "\n",
              "<style>\n",
              "    /* Turns off some styling */\n",
              "    progress {\n",
              "        /* gets rid of default border in Firefox and Opera. */\n",
              "        border: none;\n",
              "        /* Needs to be in here for Safari polyfill so background images work as expected. */\n",
              "        background-size: auto;\n",
              "    }\n",
              "    .progress-bar-interrupted, .progress-bar-interrupted::-webkit-progress-bar {\n",
              "        background: #F44336;\n",
              "    }\n",
              "</style>\n"
            ],
            "text/plain": [
              "<IPython.core.display.HTML object>"
            ]
          },
          "metadata": {}
        },
        {
          "output_type": "display_data",
          "data": {
            "text/html": [
              "<table border=\"1\" class=\"dataframe\">\n",
              "  <thead>\n",
              "    <tr style=\"text-align: left;\">\n",
              "      <th>epoch</th>\n",
              "      <th>train_loss</th>\n",
              "      <th>valid_loss</th>\n",
              "      <th>accuracy</th>\n",
              "      <th>time</th>\n",
              "    </tr>\n",
              "  </thead>\n",
              "  <tbody>\n",
              "    <tr>\n",
              "      <td>0</td>\n",
              "      <td>0.919699</td>\n",
              "      <td>0.854763</td>\n",
              "      <td>0.733710</td>\n",
              "      <td>04:15</td>\n",
              "    </tr>\n",
              "  </tbody>\n",
              "</table>"
            ],
            "text/plain": [
              "<IPython.core.display.HTML object>"
            ]
          },
          "metadata": {}
        }
      ]
    },
    {
      "cell_type": "code",
      "source": [
        "learn_class.freeze_to(-3)\n",
        "learn_class.fit_one_cycle(1, slice(5e-3/(2.6**4),5e-3))"
      ],
      "metadata": {
        "id": "WkcBwtB9gSvb",
        "outputId": "d7407c95-b40b-4318-ec32-423fc06ab83f",
        "colab": {
          "base_uri": "https://localhost:8080/",
          "height": 80
        }
      },
      "id": "WkcBwtB9gSvb",
      "execution_count": null,
      "outputs": [
        {
          "output_type": "display_data",
          "data": {
            "text/html": [
              "\n",
              "<style>\n",
              "    /* Turns off some styling */\n",
              "    progress {\n",
              "        /* gets rid of default border in Firefox and Opera. */\n",
              "        border: none;\n",
              "        /* Needs to be in here for Safari polyfill so background images work as expected. */\n",
              "        background-size: auto;\n",
              "    }\n",
              "    .progress-bar-interrupted, .progress-bar-interrupted::-webkit-progress-bar {\n",
              "        background: #F44336;\n",
              "    }\n",
              "</style>\n"
            ],
            "text/plain": [
              "<IPython.core.display.HTML object>"
            ]
          },
          "metadata": {}
        },
        {
          "output_type": "display_data",
          "data": {
            "text/html": [
              "<table border=\"1\" class=\"dataframe\">\n",
              "  <thead>\n",
              "    <tr style=\"text-align: left;\">\n",
              "      <th>epoch</th>\n",
              "      <th>train_loss</th>\n",
              "      <th>valid_loss</th>\n",
              "      <th>accuracy</th>\n",
              "      <th>time</th>\n",
              "    </tr>\n",
              "  </thead>\n",
              "  <tbody>\n",
              "    <tr>\n",
              "      <td>0</td>\n",
              "      <td>0.877684</td>\n",
              "      <td>0.804935</td>\n",
              "      <td>0.752752</td>\n",
              "      <td>05:56</td>\n",
              "    </tr>\n",
              "  </tbody>\n",
              "</table>"
            ],
            "text/plain": [
              "<IPython.core.display.HTML object>"
            ]
          },
          "metadata": {}
        }
      ]
    },
    {
      "cell_type": "code",
      "source": [
        "learn_class.unfreeze()\n",
        "learn_class.fit_one_cycle(2, slice(1e-3/(2.6**4),1e-3))"
      ],
      "metadata": {
        "id": "F5HOGMeMgTyL",
        "outputId": "dd6df6ae-f5ee-4f74-de70-7e78894978bc",
        "colab": {
          "base_uri": "https://localhost:8080/",
          "height": 110
        }
      },
      "id": "F5HOGMeMgTyL",
      "execution_count": null,
      "outputs": [
        {
          "output_type": "display_data",
          "data": {
            "text/html": [
              "\n",
              "<style>\n",
              "    /* Turns off some styling */\n",
              "    progress {\n",
              "        /* gets rid of default border in Firefox and Opera. */\n",
              "        border: none;\n",
              "        /* Needs to be in here for Safari polyfill so background images work as expected. */\n",
              "        background-size: auto;\n",
              "    }\n",
              "    .progress-bar-interrupted, .progress-bar-interrupted::-webkit-progress-bar {\n",
              "        background: #F44336;\n",
              "    }\n",
              "</style>\n"
            ],
            "text/plain": [
              "<IPython.core.display.HTML object>"
            ]
          },
          "metadata": {}
        },
        {
          "output_type": "display_data",
          "data": {
            "text/html": [
              "<table border=\"1\" class=\"dataframe\">\n",
              "  <thead>\n",
              "    <tr style=\"text-align: left;\">\n",
              "      <th>epoch</th>\n",
              "      <th>train_loss</th>\n",
              "      <th>valid_loss</th>\n",
              "      <th>accuracy</th>\n",
              "      <th>time</th>\n",
              "    </tr>\n",
              "  </thead>\n",
              "  <tbody>\n",
              "    <tr>\n",
              "      <td>0</td>\n",
              "      <td>0.810297</td>\n",
              "      <td>0.781150</td>\n",
              "      <td>0.751265</td>\n",
              "      <td>07:31</td>\n",
              "    </tr>\n",
              "    <tr>\n",
              "      <td>1</td>\n",
              "      <td>0.725628</td>\n",
              "      <td>0.769174</td>\n",
              "      <td>0.753347</td>\n",
              "      <td>07:32</td>\n",
              "    </tr>\n",
              "  </tbody>\n",
              "</table>"
            ],
            "text/plain": [
              "<IPython.core.display.HTML object>"
            ]
          },
          "metadata": {}
        }
      ]
    },
    {
      "cell_type": "code",
      "source": [
        "learn_class.export('Transfer_learner_sent.pkl')"
      ],
      "metadata": {
        "id": "D0Ft1Mzpgavb"
      },
      "id": "D0Ft1Mzpgavb",
      "execution_count": null,
      "outputs": []
    },
    {
      "cell_type": "code",
      "source": [
        "from fastai.learner import load_learner\n",
        "file_path = '/gdrive/MyDrive/industry_data_processed/models/dl_fastai/Transfer_learner_sent.pkl'\n",
        "\n",
        "fastai_transfer = load_learner(file_path)"
      ],
      "metadata": {
        "id": "ZfXth-SAzc-w"
      },
      "id": "ZfXth-SAzc-w",
      "execution_count": 5,
      "outputs": []
    },
    {
      "cell_type": "code",
      "source": [
        "test_dl = fastai_transfer.dls.test_dl(df_test.concatenated) # Create a test dataloader"
      ],
      "metadata": {
        "id": "LwNZARq7z_Ic"
      },
      "id": "LwNZARq7z_Ic",
      "execution_count": 30,
      "outputs": []
    },
    {
      "cell_type": "code",
      "source": [
        "preds, y = fastai_transfer.get_preds(dl=test_dl)"
      ],
      "metadata": {
        "id": "-e9RPxcnOO-o"
      },
      "id": "-e9RPxcnOO-o",
      "execution_count": null,
      "outputs": []
    },
    {
      "cell_type": "code",
      "source": [
        "interp = ClassificationInterpretation.from_learner(fastai_transfer)\n",
        "interp.plot_confusion_matrix(title='Confusion matrix')"
      ],
      "metadata": {
        "id": "gNu0nsLqzXJC"
      },
      "id": "gNu0nsLqzXJC",
      "execution_count": null,
      "outputs": []
    },
    {
      "cell_type": "code",
      "source": [
        "f1_score = F1Score(preds)\n",
        "f1_score"
      ],
      "metadata": {
        "id": "q7KGsE7BzX9p"
      },
      "id": "q7KGsE7BzX9p",
      "execution_count": null,
      "outputs": []
    }
  ],
  "metadata": {
    "kernelspec": {
      "display_name": "Python 3 (ipykernel)",
      "language": "python",
      "name": "python3"
    },
    "language_info": {
      "codemirror_mode": {
        "name": "ipython",
        "version": 3
      },
      "file_extension": ".py",
      "mimetype": "text/x-python",
      "name": "python",
      "nbconvert_exporter": "python",
      "pygments_lexer": "ipython3",
      "version": "3.9.9"
    },
    "colab": {
      "name": "model_dl_fastai.ipynb",
      "provenance": []
    },
    "accelerator": "GPU"
  },
  "nbformat": 4,
  "nbformat_minor": 5
}