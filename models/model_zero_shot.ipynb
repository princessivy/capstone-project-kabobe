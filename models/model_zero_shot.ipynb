{
  "nbformat": 4,
  "nbformat_minor": 0,
  "metadata": {
    "colab": {
      "name": "Kopie von Zero shot.ipynb",
      "provenance": [],
      "collapsed_sections": [],
      "authorship_tag": "ABX9TyO33P84kRefrCeRVywho8MP",
      "include_colab_link": true
    },
    "kernelspec": {
      "name": "python3",
      "display_name": "Python 3"
    },
    "language_info": {
      "name": "python"
    },
    "widgets": {
      "application/vnd.jupyter.widget-state+json": {
        "c7fb9a2814154ec5ba908ca07672adcc": {
          "model_module": "@jupyter-widgets/controls",
          "model_name": "HBoxModel",
          "model_module_version": "1.5.0",
          "state": {
            "_view_name": "HBoxView",
            "_dom_classes": [],
            "_model_name": "HBoxModel",
            "_view_module": "@jupyter-widgets/controls",
            "_model_module_version": "1.5.0",
            "_view_count": null,
            "_view_module_version": "1.5.0",
            "box_style": "",
            "layout": "IPY_MODEL_2938f4cb48db4c2e884ae1573fe32f4c",
            "_model_module": "@jupyter-widgets/controls",
            "children": [
              "IPY_MODEL_e881cc3b400b4b73b9a88ff4a4c86d1c",
              "IPY_MODEL_20a81c8171164e82be728e65a2bf09b7",
              "IPY_MODEL_585eecdbcf6841d7928b6e5f6a6eecc4"
            ]
          }
        },
        "2938f4cb48db4c2e884ae1573fe32f4c": {
          "model_module": "@jupyter-widgets/base",
          "model_name": "LayoutModel",
          "model_module_version": "1.2.0",
          "state": {
            "_view_name": "LayoutView",
            "grid_template_rows": null,
            "right": null,
            "justify_content": null,
            "_view_module": "@jupyter-widgets/base",
            "overflow": null,
            "_model_module_version": "1.2.0",
            "_view_count": null,
            "flex_flow": null,
            "width": null,
            "min_width": null,
            "border": null,
            "align_items": null,
            "bottom": null,
            "_model_module": "@jupyter-widgets/base",
            "top": null,
            "grid_column": null,
            "overflow_y": null,
            "overflow_x": null,
            "grid_auto_flow": null,
            "grid_area": null,
            "grid_template_columns": null,
            "flex": null,
            "_model_name": "LayoutModel",
            "justify_items": null,
            "grid_row": null,
            "max_height": null,
            "align_content": null,
            "visibility": null,
            "align_self": null,
            "height": null,
            "min_height": null,
            "padding": null,
            "grid_auto_rows": null,
            "grid_gap": null,
            "max_width": null,
            "order": null,
            "_view_module_version": "1.2.0",
            "grid_template_areas": null,
            "object_position": null,
            "object_fit": null,
            "grid_auto_columns": null,
            "margin": null,
            "display": null,
            "left": null
          }
        },
        "e881cc3b400b4b73b9a88ff4a4c86d1c": {
          "model_module": "@jupyter-widgets/controls",
          "model_name": "HTMLModel",
          "model_module_version": "1.5.0",
          "state": {
            "_view_name": "HTMLView",
            "style": "IPY_MODEL_ceb20a6df7df46f1927e3b926cda2615",
            "_dom_classes": [],
            "description": "",
            "_model_name": "HTMLModel",
            "placeholder": "​",
            "_view_module": "@jupyter-widgets/controls",
            "_model_module_version": "1.5.0",
            "value": "100%",
            "_view_count": null,
            "_view_module_version": "1.5.0",
            "description_tooltip": null,
            "_model_module": "@jupyter-widgets/controls",
            "layout": "IPY_MODEL_b8c730f6a34349408230f46cc3ecf414"
          }
        },
        "20a81c8171164e82be728e65a2bf09b7": {
          "model_module": "@jupyter-widgets/controls",
          "model_name": "FloatProgressModel",
          "model_module_version": "1.5.0",
          "state": {
            "_view_name": "ProgressView",
            "style": "IPY_MODEL_0433ab68277b47d7be3113129abab2a1",
            "_dom_classes": [],
            "description": "",
            "_model_name": "FloatProgressModel",
            "bar_style": "success",
            "max": 17,
            "_view_module": "@jupyter-widgets/controls",
            "_model_module_version": "1.5.0",
            "value": 17,
            "_view_count": null,
            "_view_module_version": "1.5.0",
            "orientation": "horizontal",
            "min": 0,
            "description_tooltip": null,
            "_model_module": "@jupyter-widgets/controls",
            "layout": "IPY_MODEL_8b38634a09ec4fd7a5217357aa680c82"
          }
        },
        "585eecdbcf6841d7928b6e5f6a6eecc4": {
          "model_module": "@jupyter-widgets/controls",
          "model_name": "HTMLModel",
          "model_module_version": "1.5.0",
          "state": {
            "_view_name": "HTMLView",
            "style": "IPY_MODEL_a381088a84f44fcabca6bd07be6ee324",
            "_dom_classes": [],
            "description": "",
            "_model_name": "HTMLModel",
            "placeholder": "​",
            "_view_module": "@jupyter-widgets/controls",
            "_model_module_version": "1.5.0",
            "value": " 17/17 [01:15&lt;00:00,  3.84s/ba]",
            "_view_count": null,
            "_view_module_version": "1.5.0",
            "description_tooltip": null,
            "_model_module": "@jupyter-widgets/controls",
            "layout": "IPY_MODEL_0a07ad3b1d084e2fbeedd274f4400f65"
          }
        },
        "ceb20a6df7df46f1927e3b926cda2615": {
          "model_module": "@jupyter-widgets/controls",
          "model_name": "DescriptionStyleModel",
          "model_module_version": "1.5.0",
          "state": {
            "_view_name": "StyleView",
            "_model_name": "DescriptionStyleModel",
            "description_width": "",
            "_view_module": "@jupyter-widgets/base",
            "_model_module_version": "1.5.0",
            "_view_count": null,
            "_view_module_version": "1.2.0",
            "_model_module": "@jupyter-widgets/controls"
          }
        },
        "b8c730f6a34349408230f46cc3ecf414": {
          "model_module": "@jupyter-widgets/base",
          "model_name": "LayoutModel",
          "model_module_version": "1.2.0",
          "state": {
            "_view_name": "LayoutView",
            "grid_template_rows": null,
            "right": null,
            "justify_content": null,
            "_view_module": "@jupyter-widgets/base",
            "overflow": null,
            "_model_module_version": "1.2.0",
            "_view_count": null,
            "flex_flow": null,
            "width": null,
            "min_width": null,
            "border": null,
            "align_items": null,
            "bottom": null,
            "_model_module": "@jupyter-widgets/base",
            "top": null,
            "grid_column": null,
            "overflow_y": null,
            "overflow_x": null,
            "grid_auto_flow": null,
            "grid_area": null,
            "grid_template_columns": null,
            "flex": null,
            "_model_name": "LayoutModel",
            "justify_items": null,
            "grid_row": null,
            "max_height": null,
            "align_content": null,
            "visibility": null,
            "align_self": null,
            "height": null,
            "min_height": null,
            "padding": null,
            "grid_auto_rows": null,
            "grid_gap": null,
            "max_width": null,
            "order": null,
            "_view_module_version": "1.2.0",
            "grid_template_areas": null,
            "object_position": null,
            "object_fit": null,
            "grid_auto_columns": null,
            "margin": null,
            "display": null,
            "left": null
          }
        },
        "0433ab68277b47d7be3113129abab2a1": {
          "model_module": "@jupyter-widgets/controls",
          "model_name": "ProgressStyleModel",
          "model_module_version": "1.5.0",
          "state": {
            "_view_name": "StyleView",
            "_model_name": "ProgressStyleModel",
            "description_width": "",
            "_view_module": "@jupyter-widgets/base",
            "_model_module_version": "1.5.0",
            "_view_count": null,
            "_view_module_version": "1.2.0",
            "bar_color": null,
            "_model_module": "@jupyter-widgets/controls"
          }
        },
        "8b38634a09ec4fd7a5217357aa680c82": {
          "model_module": "@jupyter-widgets/base",
          "model_name": "LayoutModel",
          "model_module_version": "1.2.0",
          "state": {
            "_view_name": "LayoutView",
            "grid_template_rows": null,
            "right": null,
            "justify_content": null,
            "_view_module": "@jupyter-widgets/base",
            "overflow": null,
            "_model_module_version": "1.2.0",
            "_view_count": null,
            "flex_flow": null,
            "width": null,
            "min_width": null,
            "border": null,
            "align_items": null,
            "bottom": null,
            "_model_module": "@jupyter-widgets/base",
            "top": null,
            "grid_column": null,
            "overflow_y": null,
            "overflow_x": null,
            "grid_auto_flow": null,
            "grid_area": null,
            "grid_template_columns": null,
            "flex": null,
            "_model_name": "LayoutModel",
            "justify_items": null,
            "grid_row": null,
            "max_height": null,
            "align_content": null,
            "visibility": null,
            "align_self": null,
            "height": null,
            "min_height": null,
            "padding": null,
            "grid_auto_rows": null,
            "grid_gap": null,
            "max_width": null,
            "order": null,
            "_view_module_version": "1.2.0",
            "grid_template_areas": null,
            "object_position": null,
            "object_fit": null,
            "grid_auto_columns": null,
            "margin": null,
            "display": null,
            "left": null
          }
        },
        "a381088a84f44fcabca6bd07be6ee324": {
          "model_module": "@jupyter-widgets/controls",
          "model_name": "DescriptionStyleModel",
          "model_module_version": "1.5.0",
          "state": {
            "_view_name": "StyleView",
            "_model_name": "DescriptionStyleModel",
            "description_width": "",
            "_view_module": "@jupyter-widgets/base",
            "_model_module_version": "1.5.0",
            "_view_count": null,
            "_view_module_version": "1.2.0",
            "_model_module": "@jupyter-widgets/controls"
          }
        },
        "0a07ad3b1d084e2fbeedd274f4400f65": {
          "model_module": "@jupyter-widgets/base",
          "model_name": "LayoutModel",
          "model_module_version": "1.2.0",
          "state": {
            "_view_name": "LayoutView",
            "grid_template_rows": null,
            "right": null,
            "justify_content": null,
            "_view_module": "@jupyter-widgets/base",
            "overflow": null,
            "_model_module_version": "1.2.0",
            "_view_count": null,
            "flex_flow": null,
            "width": null,
            "min_width": null,
            "border": null,
            "align_items": null,
            "bottom": null,
            "_model_module": "@jupyter-widgets/base",
            "top": null,
            "grid_column": null,
            "overflow_y": null,
            "overflow_x": null,
            "grid_auto_flow": null,
            "grid_area": null,
            "grid_template_columns": null,
            "flex": null,
            "_model_name": "LayoutModel",
            "justify_items": null,
            "grid_row": null,
            "max_height": null,
            "align_content": null,
            "visibility": null,
            "align_self": null,
            "height": null,
            "min_height": null,
            "padding": null,
            "grid_auto_rows": null,
            "grid_gap": null,
            "max_width": null,
            "order": null,
            "_view_module_version": "1.2.0",
            "grid_template_areas": null,
            "object_position": null,
            "object_fit": null,
            "grid_auto_columns": null,
            "margin": null,
            "display": null,
            "left": null
          }
        },
        "063e91ec3b3346ccb5f6c8900ae603b7": {
          "model_module": "@jupyter-widgets/controls",
          "model_name": "HBoxModel",
          "model_module_version": "1.5.0",
          "state": {
            "_view_name": "HBoxView",
            "_dom_classes": [],
            "_model_name": "HBoxModel",
            "_view_module": "@jupyter-widgets/controls",
            "_model_module_version": "1.5.0",
            "_view_count": null,
            "_view_module_version": "1.5.0",
            "box_style": "",
            "layout": "IPY_MODEL_4cecf45aa1d14f8e880a74a84c5f4ecf",
            "_model_module": "@jupyter-widgets/controls",
            "children": [
              "IPY_MODEL_b05e3c8838b94437aba3206bc5cde7f5",
              "IPY_MODEL_0e2e6f7843cb4ad2af78a3c027760d28",
              "IPY_MODEL_ce459235a5d04ca7a82343d89ccbc91c"
            ]
          }
        },
        "4cecf45aa1d14f8e880a74a84c5f4ecf": {
          "model_module": "@jupyter-widgets/base",
          "model_name": "LayoutModel",
          "model_module_version": "1.2.0",
          "state": {
            "_view_name": "LayoutView",
            "grid_template_rows": null,
            "right": null,
            "justify_content": null,
            "_view_module": "@jupyter-widgets/base",
            "overflow": null,
            "_model_module_version": "1.2.0",
            "_view_count": null,
            "flex_flow": null,
            "width": null,
            "min_width": null,
            "border": null,
            "align_items": null,
            "bottom": null,
            "_model_module": "@jupyter-widgets/base",
            "top": null,
            "grid_column": null,
            "overflow_y": null,
            "overflow_x": null,
            "grid_auto_flow": null,
            "grid_area": null,
            "grid_template_columns": null,
            "flex": null,
            "_model_name": "LayoutModel",
            "justify_items": null,
            "grid_row": null,
            "max_height": null,
            "align_content": null,
            "visibility": null,
            "align_self": null,
            "height": null,
            "min_height": null,
            "padding": null,
            "grid_auto_rows": null,
            "grid_gap": null,
            "max_width": null,
            "order": null,
            "_view_module_version": "1.2.0",
            "grid_template_areas": null,
            "object_position": null,
            "object_fit": null,
            "grid_auto_columns": null,
            "margin": null,
            "display": null,
            "left": null
          }
        },
        "b05e3c8838b94437aba3206bc5cde7f5": {
          "model_module": "@jupyter-widgets/controls",
          "model_name": "HTMLModel",
          "model_module_version": "1.5.0",
          "state": {
            "_view_name": "HTMLView",
            "style": "IPY_MODEL_8839675b856f44de8030aa07eb80da17",
            "_dom_classes": [],
            "description": "",
            "_model_name": "HTMLModel",
            "placeholder": "​",
            "_view_module": "@jupyter-widgets/controls",
            "_model_module_version": "1.5.0",
            "value": "100%",
            "_view_count": null,
            "_view_module_version": "1.5.0",
            "description_tooltip": null,
            "_model_module": "@jupyter-widgets/controls",
            "layout": "IPY_MODEL_476bbce6b50940e7803cefd27addbed7"
          }
        },
        "0e2e6f7843cb4ad2af78a3c027760d28": {
          "model_module": "@jupyter-widgets/controls",
          "model_name": "FloatProgressModel",
          "model_module_version": "1.5.0",
          "state": {
            "_view_name": "ProgressView",
            "style": "IPY_MODEL_a90eb008b43a48af9f95978a8d71fee4",
            "_dom_classes": [],
            "description": "",
            "_model_name": "FloatProgressModel",
            "bar_style": "success",
            "max": 9,
            "_view_module": "@jupyter-widgets/controls",
            "_model_module_version": "1.5.0",
            "value": 9,
            "_view_count": null,
            "_view_module_version": "1.5.0",
            "orientation": "horizontal",
            "min": 0,
            "description_tooltip": null,
            "_model_module": "@jupyter-widgets/controls",
            "layout": "IPY_MODEL_b177ba37dba4489c8c114ffb1f87e34b"
          }
        },
        "ce459235a5d04ca7a82343d89ccbc91c": {
          "model_module": "@jupyter-widgets/controls",
          "model_name": "HTMLModel",
          "model_module_version": "1.5.0",
          "state": {
            "_view_name": "HTMLView",
            "style": "IPY_MODEL_33f3239882db4856a58af84950ee9570",
            "_dom_classes": [],
            "description": "",
            "_model_name": "HTMLModel",
            "placeholder": "​",
            "_view_module": "@jupyter-widgets/controls",
            "_model_module_version": "1.5.0",
            "value": " 9/9 [00:33&lt;00:00,  3.44s/ba]",
            "_view_count": null,
            "_view_module_version": "1.5.0",
            "description_tooltip": null,
            "_model_module": "@jupyter-widgets/controls",
            "layout": "IPY_MODEL_881419200c534925bd9e1394851b1133"
          }
        },
        "8839675b856f44de8030aa07eb80da17": {
          "model_module": "@jupyter-widgets/controls",
          "model_name": "DescriptionStyleModel",
          "model_module_version": "1.5.0",
          "state": {
            "_view_name": "StyleView",
            "_model_name": "DescriptionStyleModel",
            "description_width": "",
            "_view_module": "@jupyter-widgets/base",
            "_model_module_version": "1.5.0",
            "_view_count": null,
            "_view_module_version": "1.2.0",
            "_model_module": "@jupyter-widgets/controls"
          }
        },
        "476bbce6b50940e7803cefd27addbed7": {
          "model_module": "@jupyter-widgets/base",
          "model_name": "LayoutModel",
          "model_module_version": "1.2.0",
          "state": {
            "_view_name": "LayoutView",
            "grid_template_rows": null,
            "right": null,
            "justify_content": null,
            "_view_module": "@jupyter-widgets/base",
            "overflow": null,
            "_model_module_version": "1.2.0",
            "_view_count": null,
            "flex_flow": null,
            "width": null,
            "min_width": null,
            "border": null,
            "align_items": null,
            "bottom": null,
            "_model_module": "@jupyter-widgets/base",
            "top": null,
            "grid_column": null,
            "overflow_y": null,
            "overflow_x": null,
            "grid_auto_flow": null,
            "grid_area": null,
            "grid_template_columns": null,
            "flex": null,
            "_model_name": "LayoutModel",
            "justify_items": null,
            "grid_row": null,
            "max_height": null,
            "align_content": null,
            "visibility": null,
            "align_self": null,
            "height": null,
            "min_height": null,
            "padding": null,
            "grid_auto_rows": null,
            "grid_gap": null,
            "max_width": null,
            "order": null,
            "_view_module_version": "1.2.0",
            "grid_template_areas": null,
            "object_position": null,
            "object_fit": null,
            "grid_auto_columns": null,
            "margin": null,
            "display": null,
            "left": null
          }
        },
        "a90eb008b43a48af9f95978a8d71fee4": {
          "model_module": "@jupyter-widgets/controls",
          "model_name": "ProgressStyleModel",
          "model_module_version": "1.5.0",
          "state": {
            "_view_name": "StyleView",
            "_model_name": "ProgressStyleModel",
            "description_width": "",
            "_view_module": "@jupyter-widgets/base",
            "_model_module_version": "1.5.0",
            "_view_count": null,
            "_view_module_version": "1.2.0",
            "bar_color": null,
            "_model_module": "@jupyter-widgets/controls"
          }
        },
        "b177ba37dba4489c8c114ffb1f87e34b": {
          "model_module": "@jupyter-widgets/base",
          "model_name": "LayoutModel",
          "model_module_version": "1.2.0",
          "state": {
            "_view_name": "LayoutView",
            "grid_template_rows": null,
            "right": null,
            "justify_content": null,
            "_view_module": "@jupyter-widgets/base",
            "overflow": null,
            "_model_module_version": "1.2.0",
            "_view_count": null,
            "flex_flow": null,
            "width": null,
            "min_width": null,
            "border": null,
            "align_items": null,
            "bottom": null,
            "_model_module": "@jupyter-widgets/base",
            "top": null,
            "grid_column": null,
            "overflow_y": null,
            "overflow_x": null,
            "grid_auto_flow": null,
            "grid_area": null,
            "grid_template_columns": null,
            "flex": null,
            "_model_name": "LayoutModel",
            "justify_items": null,
            "grid_row": null,
            "max_height": null,
            "align_content": null,
            "visibility": null,
            "align_self": null,
            "height": null,
            "min_height": null,
            "padding": null,
            "grid_auto_rows": null,
            "grid_gap": null,
            "max_width": null,
            "order": null,
            "_view_module_version": "1.2.0",
            "grid_template_areas": null,
            "object_position": null,
            "object_fit": null,
            "grid_auto_columns": null,
            "margin": null,
            "display": null,
            "left": null
          }
        },
        "33f3239882db4856a58af84950ee9570": {
          "model_module": "@jupyter-widgets/controls",
          "model_name": "DescriptionStyleModel",
          "model_module_version": "1.5.0",
          "state": {
            "_view_name": "StyleView",
            "_model_name": "DescriptionStyleModel",
            "description_width": "",
            "_view_module": "@jupyter-widgets/base",
            "_model_module_version": "1.5.0",
            "_view_count": null,
            "_view_module_version": "1.2.0",
            "_model_module": "@jupyter-widgets/controls"
          }
        },
        "881419200c534925bd9e1394851b1133": {
          "model_module": "@jupyter-widgets/base",
          "model_name": "LayoutModel",
          "model_module_version": "1.2.0",
          "state": {
            "_view_name": "LayoutView",
            "grid_template_rows": null,
            "right": null,
            "justify_content": null,
            "_view_module": "@jupyter-widgets/base",
            "overflow": null,
            "_model_module_version": "1.2.0",
            "_view_count": null,
            "flex_flow": null,
            "width": null,
            "min_width": null,
            "border": null,
            "align_items": null,
            "bottom": null,
            "_model_module": "@jupyter-widgets/base",
            "top": null,
            "grid_column": null,
            "overflow_y": null,
            "overflow_x": null,
            "grid_auto_flow": null,
            "grid_area": null,
            "grid_template_columns": null,
            "flex": null,
            "_model_name": "LayoutModel",
            "justify_items": null,
            "grid_row": null,
            "max_height": null,
            "align_content": null,
            "visibility": null,
            "align_self": null,
            "height": null,
            "min_height": null,
            "padding": null,
            "grid_auto_rows": null,
            "grid_gap": null,
            "max_width": null,
            "order": null,
            "_view_module_version": "1.2.0",
            "grid_template_areas": null,
            "object_position": null,
            "object_fit": null,
            "grid_auto_columns": null,
            "margin": null,
            "display": null,
            "left": null
          }
        }
      }
    },
    "accelerator": "GPU"
  },
  "cells": [
    {
      "cell_type": "markdown",
      "metadata": {
        "id": "view-in-github",
        "colab_type": "text"
      },
      "source": [
        "<a href=\"https://colab.research.google.com/github/pds2122/capstone-project-kabobe/blob/main/models/model_zero_shot.ipynb\" target=\"_parent\"><img src=\"https://colab.research.google.com/assets/colab-badge.svg\" alt=\"Open In Colab\"/></a>"
      ]
    },
    {
      "cell_type": "code",
      "execution_count": null,
      "metadata": {
        "id": "NENamC1yJKjQ"
      },
      "outputs": [],
      "source": [
        "!pip install ndjson --quiet\n",
        "!pip install transformers --quiet\n",
        "!pip install datasets --quiet\n",
        "!pip install --upgrade simpletransformers --quiet"
      ]
    },
    {
      "cell_type": "code",
      "source": [
        "import ndjson\n",
        "import pandas as pd\n",
        "#import gzip\n",
        "from pathlib import Path\n",
        "from google.colab import drive\n",
        "import numpy as np\n",
        "import gc\n",
        "\n",
        "from transformers import AutoTokenizer, AutoModelForSequenceClassification\n",
        "from transformers import TrainingArguments\n",
        "from transformers import Trainer\n",
        "import torch\n",
        "from datasets import Dataset, DatasetDict, load_metric\n",
        "from simpletransformers.classification import ClassificationModel\n",
        "from sklearn.metrics import f1_score, accuracy_score, recall_score, precision_score, classification_report\n",
        "\n",
        "import os\n",
        "import tarfile"
      ],
      "metadata": {
        "id": "KbulTburLTMb"
      },
      "execution_count": null,
      "outputs": []
    },
    {
      "cell_type": "markdown",
      "source": [
        "# Load train & test data"
      ],
      "metadata": {
        "id": "tQmBrw5N_gSY"
      }
    },
    {
      "cell_type": "code",
      "source": [
        "# Mount Google Drive\n",
        "drive.mount('/gdrive')\n",
        "data_path = Path('/gdrive/MyDrive/industry_data_processed/data/final/')\n",
        "file_name = 'df_test_de_sentiment.ndjson'\n",
        "\n",
        "with open(data_path/file_name, 'rt', encoding='UTF-8') as file:\n",
        "    data = ndjson.load(file)\n",
        "df_test = pd.DataFrame(data)"
      ],
      "metadata": {
        "id": "a1j7Jq0Q4AnT",
        "colab": {
          "base_uri": "https://localhost:8080/"
        },
        "outputId": "9187d5ab-e7ce-4e08-f7c7-bf5477b7eee5"
      },
      "execution_count": null,
      "outputs": [
        {
          "output_type": "stream",
          "name": "stdout",
          "text": [
            "Mounted at /gdrive\n"
          ]
        }
      ]
    },
    {
      "cell_type": "code",
      "source": [
        "drive.mount('/gdrive')\n",
        "data_path = Path('/gdrive/MyDrive/industry_data_processed/data/final/')\n",
        "file_name = 'df_train_de_sentiment.ndjson'\n",
        "with open(data_path/file_name, 'rt', encoding='UTF-8') as file: # if gz, use >> with gzip.open()\n",
        "    data = []\n",
        "    data = [ndjson.loads(line) for line in file]\n",
        "\n",
        "# get nested list, create flat-list, to fet data in DataFrame\n",
        "flat_list = [item for sublist in data for item in sublist]\n",
        "df_train = pd.DataFrame(flat_list)"
      ],
      "metadata": {
        "colab": {
          "base_uri": "https://localhost:8080/"
        },
        "id": "M9UtwjICAMgv",
        "outputId": "8197ef87-b6f7-45dc-c928-4d02e9684905"
      },
      "execution_count": null,
      "outputs": [
        {
          "output_type": "stream",
          "name": "stdout",
          "text": [
            "Drive already mounted at /gdrive; to attempt to forcibly remount, call drive.mount(\"/gdrive\", force_remount=True).\n"
          ]
        }
      ]
    },
    {
      "cell_type": "markdown",
      "source": [
        "# Zero shot - German distilBERT\n",
        "\n",
        "Following the tutorial on: https://www.philschmid.de/bert-text-classification-in-a-different-language\n",
        "\n",
        "When training zero shot model turn on GPU!"
      ],
      "metadata": {
        "id": "HrCom2CtAU9L"
      }
    },
    {
      "cell_type": "code",
      "source": [
        "class_list = ['Human Resources', 'Information Technology and Services', 'Automotive',\n",
        "              'Mechanical or Industrial Engineering', 'Medical Practice', 'Insurance',\n",
        "              'Construction', 'Management Consulting', 'Consumer Goods', 'Legal Services',\n",
        "              'Financial Services', 'Wholesale', 'Marketing and Advertising', 'Real Estate', \n",
        "              'Telecommunications', 'Logistics and Supply Chain', 'Renewables & Environment',\n",
        "              'Recreational Facilities and Services', 'Leisure, Travel & Tourism']\n",
        "\n",
        "df_test['pred_class'] = df_test.apply(lambda x:  class_list.index(x['industry_label']),axis=1)\n",
        "df_train['pred_class'] = df_train.apply(lambda x:  class_list.index(x['industry_label']),axis=1)\n",
        "\n",
        "df_test = df_test[['concatenated','pred_class']]\n",
        "df_train = df_train[['concatenated','pred_class']]\n",
        "\n",
        "df_train = df_train.rename(columns={'pred_class': 'label', 'concatenated': 'text'})\n",
        "df_test = df_test.rename(columns={'pred_class': 'label', 'concatenated': 'text'})"
      ],
      "metadata": {
        "id": "i-YLJbTlwmMS"
      },
      "execution_count": null,
      "outputs": []
    },
    {
      "cell_type": "code",
      "source": [
        "# https://simpletransformers.ai/docs/classification-models/\n",
        "train_args ={'reprocess_input_data': True,\n",
        "             'fp16':False,\n",
        "             'num_train_epochs': 5,\n",
        "             'use_early_stopping': True,\n",
        "             #'overwrite_output_dir': True # use if already trained once in the same runtime\n",
        "             }\n",
        "\n",
        "model_distilBERT = ClassificationModel('bert', 'distilbert-base-german-cased', args=train_args, num_labels=19)"
      ],
      "metadata": {
        "id": "FS6Og9OJv44j"
      },
      "execution_count": null,
      "outputs": []
    },
    {
      "cell_type": "code",
      "source": [
        "model_distilBERT.train_model(df_train)"
      ],
      "metadata": {
        "id": "4DiTXwSavsWk"
      },
      "execution_count": null,
      "outputs": []
    },
    {
      "cell_type": "code",
      "source": [
        "def f1_multiclass(labels, preds):\n",
        "    return f1_score(labels, preds, average='None')\n",
        "\n",
        "result, model_outputs, wrong_predictions = model_distilBERT.eval_model(df_test, f1=f1_multiclass, acc=accuracy_score, recall=recall_score, precision=precision_score)"
      ],
      "metadata": {
        "id": "ao_mHo5dAhmK"
      },
      "execution_count": null,
      "outputs": []
    },
    {
      "cell_type": "markdown",
      "source": [
        "Results:\n",
        "\n",
        "* acc = 0.5321581705574083\n",
        "* eval_loss = 1.9038320411386944\n",
        "* f1 = 0.5321581705574083\n",
        "* mcc = 0.4834822098667312"
      ],
      "metadata": {
        "id": "s2_Zc3I3hNpZ"
      }
    },
    {
      "cell_type": "code",
      "source": [
        "# save model\n",
        "def pack_model(model_path='',file_name=''):\n",
        "  files = [files for root, dirs, files in os.walk(model_path)][0]\n",
        "  with tarfile.open(file_name+ '.tar.gz', 'w:gz') as f:\n",
        "    for file in files:\n",
        "      f.add(f'{model_path}/{file}')\n",
        "\n",
        "# run the function\n",
        "pack_model('/content','distilBERT_german')\n",
        "\n",
        "drive.mount('/gdrive')\n",
        "!cp distilBERT_ger.tar.gz '/gdrive/MyDrive/industry_data_processed/models/zero_shot_distilbert'"
      ],
      "metadata": {
        "colab": {
          "base_uri": "https://localhost:8080/"
        },
        "id": "vEGe_iWsGk9B",
        "outputId": "73ffd12c-766e-46a5-b934-4a3afbf58d04"
      },
      "execution_count": null,
      "outputs": [
        {
          "output_type": "stream",
          "name": "stdout",
          "text": [
            "Drive already mounted at /gdrive; to attempt to forcibly remount, call drive.mount(\"/gdrive\", force_remount=True).\n"
          ]
        }
      ]
    },
    {
      "cell_type": "markdown",
      "source": [
        "# Zero shot - using auto model (sequence classification)\n",
        "\n",
        "This model is not integrated in the app as it scores lower than german distilBERT. It also requires input as a Dataset instead of a Dataframe. This makes the handling more complex in the gradio app. For completeness it is kept in the notebook."
      ],
      "metadata": {
        "id": "TFRJA6ZrOtZ6"
      }
    },
    {
      "cell_type": "code",
      "source": [
        "# if executing this after exectung the distilBERT make sure to reload df_train and df_test\n",
        "num_labels = len(df_test.industry.unique())\n",
        "\n",
        "tokenizer = AutoTokenizer.from_pretrained('bert-base-cased')\n",
        "model = AutoModelForSequenceClassification.from_pretrained('bert-base-cased', num_labels=num_labels)"
      ],
      "metadata": {
        "id": "hrAyETgEKq0u"
      },
      "execution_count": null,
      "outputs": []
    },
    {
      "cell_type": "code",
      "source": [
        "class_list = ['Human Resources', 'Information Technology and Services', 'Automotive',\n",
        "              'Mechanical or Industrial Engineering', 'Medical Practice', 'Insurance',\n",
        "              'Construction', 'Management Consulting', 'Consumer Goods', 'Legal Services',\n",
        "              'Financial Services', 'Wholesale', 'Marketing and Advertising', 'Real Estate', \n",
        "              'Telecommunications', 'Logistics and Supply Chain', 'Renewables & Environment',\n",
        "              'Recreational Facilities and Services', 'Leisure, Travel & Tourism']\n",
        "\n",
        "df_test['pred_class'] = df_test.apply(lambda x:  class_list.index(x['industry_label']),axis=1)\n",
        "df_train['pred_class'] = df_train.apply(lambda x:  class_list.index(x['industry_label']),axis=1)"
      ],
      "metadata": {
        "id": "P1QKVgp9TvHH"
      },
      "execution_count": null,
      "outputs": []
    },
    {
      "cell_type": "code",
      "source": [
        "df_train = df_train[['pred_class', 'concatenated']]\n",
        "df_test = df_test[['pred_class', 'concatenated']]"
      ],
      "metadata": {
        "id": "aQW72ZK-Swks"
      },
      "execution_count": null,
      "outputs": []
    },
    {
      "cell_type": "code",
      "source": [
        "# change names\n",
        "df_train = df_train.rename(columns={'pred_class': 'label', 'concatenated': 'text'})\n",
        "df_test = df_test.rename(columns={'pred_class': 'label', 'concatenated': 'text'})"
      ],
      "metadata": {
        "id": "M1Ksy-PTltQu"
      },
      "execution_count": null,
      "outputs": []
    },
    {
      "cell_type": "code",
      "source": [
        "# AutoModelForSequenceClassification needs input of type dataset -> convert df to dataset class from huggingface\n",
        "# https://huggingface.co/docs/datasets/loading_datasets.html\n",
        "dataset_train = Dataset.from_pandas(df_train)\n",
        "dataset_test = Dataset.from_pandas(df_test)\n",
        "\n",
        "final = DatasetDict()\n",
        "\n",
        "final['train']=dataset_train\n",
        "final['test']=dataset_test\n",
        "\n",
        "# use this if train test split still needs to be done\n",
        "#dataset_train = dataset_train.train_test_split(test_size=0.3)"
      ],
      "metadata": {
        "id": "xTPiiH6Z3at6"
      },
      "execution_count": null,
      "outputs": []
    },
    {
      "cell_type": "code",
      "source": [
        "# following the tutorial from lection 09 (NLP with huggingface)\n",
        "\n",
        "def tokenize_function(df):\n",
        "    return tokenizer(df['text'], padding='max_length', truncation=True)\n",
        "\n",
        "tokenized_datasets = final.map(tokenize_function, batched=True)"
      ],
      "metadata": {
        "colab": {
          "base_uri": "https://localhost:8080/",
          "height": 81,
          "referenced_widgets": [
            "c7fb9a2814154ec5ba908ca07672adcc",
            "2938f4cb48db4c2e884ae1573fe32f4c",
            "e881cc3b400b4b73b9a88ff4a4c86d1c",
            "20a81c8171164e82be728e65a2bf09b7",
            "585eecdbcf6841d7928b6e5f6a6eecc4",
            "ceb20a6df7df46f1927e3b926cda2615",
            "b8c730f6a34349408230f46cc3ecf414",
            "0433ab68277b47d7be3113129abab2a1",
            "8b38634a09ec4fd7a5217357aa680c82",
            "a381088a84f44fcabca6bd07be6ee324",
            "0a07ad3b1d084e2fbeedd274f4400f65",
            "063e91ec3b3346ccb5f6c8900ae603b7",
            "4cecf45aa1d14f8e880a74a84c5f4ecf",
            "b05e3c8838b94437aba3206bc5cde7f5",
            "0e2e6f7843cb4ad2af78a3c027760d28",
            "ce459235a5d04ca7a82343d89ccbc91c",
            "8839675b856f44de8030aa07eb80da17",
            "476bbce6b50940e7803cefd27addbed7",
            "a90eb008b43a48af9f95978a8d71fee4",
            "b177ba37dba4489c8c114ffb1f87e34b",
            "33f3239882db4856a58af84950ee9570",
            "881419200c534925bd9e1394851b1133"
          ]
        },
        "id": "hXLt87OMRhJa",
        "outputId": "27724029-35b4-453e-e215-ad60118c1606"
      },
      "execution_count": null,
      "outputs": [
        {
          "output_type": "display_data",
          "data": {
            "application/vnd.jupyter.widget-view+json": {
              "model_id": "c7fb9a2814154ec5ba908ca07672adcc",
              "version_minor": 0,
              "version_major": 2
            },
            "text/plain": [
              "  0%|          | 0/17 [00:00<?, ?ba/s]"
            ]
          },
          "metadata": {}
        },
        {
          "output_type": "display_data",
          "data": {
            "application/vnd.jupyter.widget-view+json": {
              "model_id": "063e91ec3b3346ccb5f6c8900ae603b7",
              "version_minor": 0,
              "version_major": 2
            },
            "text/plain": [
              "  0%|          | 0/9 [00:00<?, ?ba/s]"
            ]
          },
          "metadata": {}
        }
      ]
    },
    {
      "cell_type": "code",
      "source": [
        "tokenized_datasets"
      ],
      "metadata": {
        "colab": {
          "base_uri": "https://localhost:8080/"
        },
        "id": "saGPEJOXaa8K",
        "outputId": "b690ad97-1207-40cb-ce94-0c6318a41495"
      },
      "execution_count": null,
      "outputs": [
        {
          "output_type": "execute_result",
          "data": {
            "text/plain": [
              "DatasetDict({\n",
              "    train: Dataset({\n",
              "        features: ['label', 'text', 'input_ids', 'token_type_ids', 'attention_mask'],\n",
              "        num_rows: 16809\n",
              "    })\n",
              "    test: Dataset({\n",
              "        features: ['label', 'text', 'input_ids', 'token_type_ids', 'attention_mask'],\n",
              "        num_rows: 8396\n",
              "    })\n",
              "})"
            ]
          },
          "metadata": {},
          "execution_count": 18
        }
      ]
    },
    {
      "cell_type": "code",
      "source": [
        "small_train_dataset = tokenized_datasets['train'].shuffle(seed=42).select(range(1000)) \n",
        "small_eval_dataset = tokenized_datasets['test'].shuffle(seed=42).select(range(1000)) \n",
        "full_train_dataset = tokenized_datasets['train']\n",
        "full_eval_dataset = tokenized_datasets['test']"
      ],
      "metadata": {
        "id": "WSHLketQaXrz"
      },
      "execution_count": null,
      "outputs": []
    },
    {
      "cell_type": "code",
      "source": [
        "metric = load_metric(\"accuracy\")\n",
        "\n",
        "def compute_metrics(eval_pred):\n",
        "    logits, labels = eval_pred\n",
        "    predictions = np.argmax(logits, axis=-1)\n",
        "    return metric.compute(predictions=predictions, references=labels)"
      ],
      "metadata": {
        "id": "7PAxLqYaZKA7"
      },
      "execution_count": null,
      "outputs": []
    },
    {
      "cell_type": "code",
      "source": [
        "training_args = TrainingArguments('test_trainer', report_to=None)\n",
        "\n",
        "trainer = Trainer(\n",
        "    model=model, args=training_args, train_dataset=small_train_dataset, eval_dataset=small_eval_dataset\n",
        ")"
      ],
      "metadata": {
        "id": "640lwWlIc1Cx",
        "colab": {
          "base_uri": "https://localhost:8080/"
        },
        "outputId": "21ecd809-6223-4858-cd6b-09b55782c673"
      },
      "execution_count": null,
      "outputs": [
        {
          "output_type": "stream",
          "name": "stderr",
          "text": [
            "PyTorch: setting up devices\n",
            "The default value for the training argument `--report_to` will change in v5 (from all installed integrations to none). In v5, you will need to use `--report_to all` to get the same behavior as now. You should start updating your code and make this info disappear :-).\n"
          ]
        }
      ]
    },
    {
      "cell_type": "code",
      "source": [
        "trainer.train()"
      ],
      "metadata": {
        "id": "4Ll2WW5Rho4I"
      },
      "execution_count": null,
      "outputs": []
    },
    {
      "cell_type": "code",
      "source": [
        "trainer = Trainer(\n",
        "    model=model, args=training_args, train_dataset=small_train_dataset, eval_dataset=small_eval_dataset, compute_metrics=compute_metrics\n",
        ")"
      ],
      "metadata": {
        "id": "HnA0z_KemsSZ"
      },
      "execution_count": null,
      "outputs": []
    },
    {
      "cell_type": "code",
      "source": [
        "trainer.evaluate()"
      ],
      "metadata": {
        "id": "WdozstkwZPdY"
      },
      "execution_count": null,
      "outputs": []
    },
    {
      "cell_type": "code",
      "source": [
        "# https://stackoverflow.com/questions/64663385/saving-and-reload-huggingface-fine-tuned-transformer\n",
        "\n",
        "model_dir = '/gdrive/MyDrive/industry_data_processed/models'\n",
        "trainer.save_model(model_dir + 'zero_shot_bert/model')"
      ],
      "metadata": {
        "id": "7uNb5dJFbNe7"
      },
      "execution_count": null,
      "outputs": []
    }
  ]
}