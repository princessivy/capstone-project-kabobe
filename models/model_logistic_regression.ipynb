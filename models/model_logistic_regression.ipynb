{
  "nbformat": 4,
  "nbformat_minor": 0,
  "metadata": {
    "colab": {
      "name": "baseline_logistic_regression_capstone.ipynb",
      "provenance": [],
      "collapsed_sections": [],
      "include_colab_link": true
    },
    "kernelspec": {
      "name": "python3",
      "display_name": "Python 3"
    },
    "language_info": {
      "name": "python"
    }
  },
  "cells": [
    {
      "cell_type": "markdown",
      "metadata": {
        "id": "view-in-github",
        "colab_type": "text"
      },
      "source": [
        "<a href=\"https://colab.research.google.com/github/pds2122/capstone-project-kabobe/blob/main/models/model_logistic_regression.ipynb\" target=\"_parent\"><img src=\"https://colab.research.google.com/assets/colab-badge.svg\" alt=\"Open In Colab\"/></a>"
      ]
    },
    {
      "cell_type": "code",
      "source": [
        "!pip install ndjson --quiet"
      ],
      "metadata": {
        "id": "t1v9vlveO0bG"
      },
      "execution_count": null,
      "outputs": []
    },
    {
      "cell_type": "code",
      "execution_count": null,
      "metadata": {
        "id": "KTN7h2ax0mRs"
      },
      "outputs": [],
      "source": [
        "import ndjson\n",
        "import requests\n",
        "import pandas as pd\n",
        "import gzip\n",
        "from pathlib import Path\n",
        "from google.colab import drive\n",
        "import numpy as np\n",
        "import gc\n",
        "from collections import Counter\n",
        "import pickle\n",
        "\n",
        "from sklearn.feature_extraction.text import TfidfVectorizer\n",
        "from sklearn.linear_model import LogisticRegression\n",
        "from sklearn.model_selection import train_test_split, cross_validate, RandomizedSearchCV, StratifiedKFold, cross_val_score\n",
        "from sklearn import metrics\n",
        "from sklearn.naive_bayes import MultinomialNB\n",
        "\n",
        "from sklearn.compose import ColumnTransformer\n",
        "from sklearn.pipeline import Pipeline\n",
        "from sklearn.impute import SimpleImputer\n",
        "from sklearn import preprocessing"
      ]
    },
    {
      "cell_type": "markdown",
      "source": [
        "# Load train & test data"
      ],
      "metadata": {
        "id": "tQmBrw5N_gSY"
      }
    },
    {
      "cell_type": "code",
      "source": [
        "# test dataset\n",
        "drive.mount('/gdrive')\n",
        "data_path = Path('/gdrive/MyDrive/industry_data_processed/data/final/')\n",
        "file_name = 'df_test_de_sentiment.ndjson'\n",
        "\n",
        "with open(data_path/file_name, \"rt\", encoding='UTF-8') as file:\n",
        "    data = ndjson.load(file)\n",
        "    \n",
        "df_test = pd.DataFrame(data)"
      ],
      "metadata": {
        "id": "a1j7Jq0Q4AnT",
        "colab": {
          "base_uri": "https://localhost:8080/"
        },
        "outputId": "9bb754d7-4f87-4d7f-f6a4-93d40a3860e6"
      },
      "execution_count": null,
      "outputs": [
        {
          "output_type": "stream",
          "name": "stdout",
          "text": [
            "Drive already mounted at /gdrive; to attempt to forcibly remount, call drive.mount(\"/gdrive\", force_remount=True).\n"
          ]
        }
      ]
    },
    {
      "cell_type": "code",
      "source": [
        "#train dataset\n",
        "drive.mount('/gdrive')\n",
        "data_path = Path('/gdrive/MyDrive/industry_data_processed/data/final/')\n",
        "file_name = 'df_train_de_sentiment.ndjson'\n",
        "with open(data_path/file_name, \"rt\", encoding='UTF-8') as file: # if gz, use >> with gzip.open()\n",
        "    data = []\n",
        "    data = [ndjson.loads(line) for line in file]\n",
        "\n",
        "# get nested list, create flat-list, to fet data in DataFrame\n",
        "flat_list = [item for sublist in data for item in sublist]\n",
        "df_train = pd.DataFrame(flat_list)"
      ],
      "metadata": {
        "colab": {
          "base_uri": "https://localhost:8080/"
        },
        "id": "M9UtwjICAMgv",
        "outputId": "c5a05b1d-29ed-428b-c2e0-b58ceb1703b2"
      },
      "execution_count": null,
      "outputs": [
        {
          "output_type": "stream",
          "name": "stdout",
          "text": [
            "Drive already mounted at /gdrive; to attempt to forcibly remount, call drive.mount(\"/gdrive\", force_remount=True).\n"
          ]
        }
      ]
    },
    {
      "cell_type": "markdown",
      "source": [
        "#Tf–idf term weighting & logistic regression\n",
        "\n",
        "Complementary infos: https://github.com/rasbt/pattern_classification/blob/master/machine_learning/scikit-learn/tfidf_scikit-learn.ipynb"
      ],
      "metadata": {
        "id": "uWrKI4kNskaF"
      }
    },
    {
      "cell_type": "markdown",
      "source": [
        "In the process we explored out several combinations and options. All using the German filtered data.\n",
        "\n",
        "* Input data: Single column and mutliple columns\n",
        "* Training and Test data: Using\n",
        "  * (1) Train dataset and performing a train-test-split\n",
        "  * (2) Train and test data pre-splitted from SnapADDY\n",
        "* Over- and undersampling\n",
        "\n",
        "In the following the final logistic regression can be found. In the sections below the combinations are saved for completeness."
      ],
      "metadata": {
        "id": "em08uJ2isnLn"
      }
    },
    {
      "cell_type": "markdown",
      "source": [
        "**Alternative: Single column on pre-splitted datasets**"
      ],
      "metadata": {
        "id": "8UUzYH_LHM-d"
      }
    },
    {
      "cell_type": "code",
      "source": [
        "vectorizer = TfidfVectorizer(max_features=400000)\n",
        "\n",
        "# integrate class_weight = 'balanced' for weighting underrepresented classes more\n",
        "#n_jobs = 4 - TerminatedWorkerError with upsampled train - then set to n_jobs = 1\n",
        "logit = LogisticRegression(C=40.0, class_weight='balanced', multi_class='multinomial',\n",
        "                   n_jobs=4, random_state=15, solver='newton-cg')\n",
        "\n",
        "# old parameters (before hypertuning)\n",
        "#(C=5e1, solver='lbfgs', multi_class='multinomial', random_state=17, n_jobs=4, class_weight = 'balanced') \n",
        "\n"
      ],
      "metadata": {
        "id": "my11P64dv1JP"
      },
      "execution_count": null,
      "outputs": []
    },
    {
      "cell_type": "code",
      "source": [
        "# get data in shape\n",
        "train_X = df_train['concatenated'] \n",
        "train_y = df_train['industry_label']\n",
        "\n",
        "test_X = df_test['concatenated'] \n",
        "test_y = df_test['industry_label']"
      ],
      "metadata": {
        "id": "6U3v_hQPJrWO"
      },
      "execution_count": null,
      "outputs": []
    },
    {
      "cell_type": "code",
      "source": [
        "train_X = vectorizer.fit_transform(train_X)\n",
        "test_X = vectorizer.transform(test_X)\n",
        "train_y = train_y.tolist()\n",
        "test_y = test_y.tolist()\n",
        "\n",
        "train_X.shape, test_X.shape"
      ],
      "metadata": {
        "id": "uk6EAurLk39T",
        "outputId": "e4f1b5f8-eeea-41cb-e4c5-9110b2a87b9d",
        "colab": {
          "base_uri": "https://localhost:8080/"
        }
      },
      "execution_count": null,
      "outputs": [
        {
          "output_type": "execute_result",
          "data": {
            "text/plain": [
              "((16809, 400000), (8396, 400000))"
            ]
          },
          "metadata": {},
          "execution_count": 7
        }
      ]
    },
    {
      "cell_type": "markdown",
      "source": [
        "Fit model: Using column concatenated (contains all page content + additional Features from html)"
      ],
      "metadata": {
        "id": "FX1_gwCc7Jrf"
      }
    },
    {
      "cell_type": "code",
      "source": [
        "# when exchanging train_X, train_y make sure to execute over/undersampling first\n",
        "# X_resampled_up, y_resampled_up ; train_X, train_y ; X_resampled_both, y_resampled_both; X_resampled_under, y_resampled_under\n",
        "\n",
        "logit.fit(train_X, train_y) "
      ],
      "metadata": {
        "colab": {
          "base_uri": "https://localhost:8080/"
        },
        "id": "qEc6cIC52iHz",
        "outputId": "62e59ff3-6b0d-468a-9f8a-1ced08bee4c2"
      },
      "execution_count": null,
      "outputs": [
        {
          "output_type": "execute_result",
          "data": {
            "text/plain": [
              "LogisticRegression(C=40.0, class_weight='balanced', multi_class='multinomial',\n",
              "                   n_jobs=4, random_state=15, solver='newton-cg')"
            ]
          },
          "metadata": {},
          "execution_count": 15
        }
      ]
    },
    {
      "cell_type": "code",
      "source": [
        "gc.collect()"
      ],
      "metadata": {
        "colab": {
          "base_uri": "https://localhost:8080/"
        },
        "id": "FedvaJtXop5T",
        "outputId": "067bec4a-7577-4f6f-b5ed-08ba3be10ffc"
      },
      "execution_count": null,
      "outputs": [
        {
          "output_type": "execute_result",
          "data": {
            "text/plain": [
              "188"
            ]
          },
          "metadata": {},
          "execution_count": 9
        }
      ]
    },
    {
      "cell_type": "markdown",
      "source": [
        "### Hyperparameter tuning"
      ],
      "metadata": {
        "id": "s1pR7LnnQ3zI"
      }
    },
    {
      "cell_type": "code",
      "source": [
        "# use shorter dataset for quicker processing\n",
        "train_half = df_train.sample(frac=0.3).copy()\n",
        "test_half = df_test.sample(frac=0.1).copy()\n",
        "\n",
        "train_y = train_half['industry_label'].copy().values.reshape(-1, 1)\n",
        "test_y = test_half['industry_label'].copy().values.reshape(-1, 1)\n",
        "\n",
        "train_X = vectorizer.fit_transform(train_half['concatenated'] )\n",
        "test_X = vectorizer.transform(test_half['concatenated'] )\n",
        "\n",
        "train_y.tolist()\n",
        "test_y.tolist()\n",
        "\n",
        "train_X.shape, train_y.shape"
      ],
      "metadata": {
        "id": "pmiefcofAqX7",
        "outputId": "66556b8a-c83c-4baf-c78a-b571cbdc2085",
        "colab": {
          "base_uri": "https://localhost:8080/"
        }
      },
      "execution_count": null,
      "outputs": [
        {
          "output_type": "execute_result",
          "data": {
            "text/plain": [
              "((5043, 246382), (5043, 1))"
            ]
          },
          "metadata": {},
          "execution_count": 20
        }
      ]
    },
    {
      "cell_type": "code",
      "source": [
        "# set range of possible parameters of the logistic regression\n",
        "params = {'C':[4e1,5e1,6e1],\n",
        "          'class_weight':['balanced'],\n",
        "          'random_state':[10,15,20,25],\n",
        "          'solver':['newton-cg', 'sag', 'saga', 'lbfgs'],\n",
        "          'multi_class':['multinomial'],\n",
        "          'penalty':['l2','None']\n",
        "          }"
      ],
      "metadata": {
        "id": "7u_hv7GbRZjo"
      },
      "execution_count": null,
      "outputs": []
    },
    {
      "cell_type": "code",
      "source": [
        "random_search = RandomizedSearchCV(logit, param_distributions=params, n_iter=5, scoring='roc_auc', cv=5, verbose=3)"
      ],
      "metadata": {
        "id": "pIWFW_UBRcTg"
      },
      "execution_count": null,
      "outputs": []
    },
    {
      "cell_type": "code",
      "source": [
        "# use for pipeline\n",
        "#pipeline_RC = Pipeline(steps=[('t', column_trans), ('m',random_search)])\n",
        "#pipeline_RC.fit(train_X, train_y.ravel())"
      ],
      "metadata": {
        "id": "ZWd2iky1J_6j"
      },
      "execution_count": null,
      "outputs": []
    },
    {
      "cell_type": "code",
      "source": [
        "random_search.fit(train_X, train_y.ravel())"
      ],
      "metadata": {
        "id": "8xp_CVq5SCpp"
      },
      "execution_count": null,
      "outputs": []
    },
    {
      "cell_type": "code",
      "source": [
        "# best parameters from search\n",
        "random_search.best_params_"
      ],
      "metadata": {
        "id": "kdqPtg18S48Z",
        "outputId": "45112d18-5da8-49c7-afa4-d9a8717e4f84",
        "colab": {
          "base_uri": "https://localhost:8080/"
        }
      },
      "execution_count": null,
      "outputs": [
        {
          "output_type": "execute_result",
          "data": {
            "text/plain": [
              "{'C': 40.0,\n",
              " 'class_weight': 'balanced',\n",
              " 'multi_class': 'multinomial',\n",
              " 'penalty': 'l2',\n",
              " 'random_state': 15,\n",
              " 'solver': 'newton-cg'}"
            ]
          },
          "metadata": {},
          "execution_count": 23
        }
      ]
    },
    {
      "cell_type": "code",
      "source": [
        "# best overall set up -> use this\n",
        "random_search.best_estimator_"
      ],
      "metadata": {
        "id": "exl9iLJQLUsc",
        "outputId": "24d054f2-8ab0-4a1f-d214-bc68d75cd1b6",
        "colab": {
          "base_uri": "https://localhost:8080/"
        }
      },
      "execution_count": null,
      "outputs": [
        {
          "output_type": "execute_result",
          "data": {
            "text/plain": [
              "LogisticRegression(C=40.0, class_weight='balanced', multi_class='multinomial',\n",
              "                   n_jobs=4, random_state=15, solver='newton-cg')"
            ]
          },
          "metadata": {},
          "execution_count": 24
        }
      ]
    },
    {
      "cell_type": "markdown",
      "source": [
        "### Metrics & scores"
      ],
      "metadata": {
        "id": "XUcFW-UzO407"
      }
    },
    {
      "cell_type": "markdown",
      "source": [
        "Report"
      ],
      "metadata": {
        "id": "WJd4PA4XNiuP"
      }
    },
    {
      "cell_type": "code",
      "source": [
        "score = logit.score(test_X, test_y)\n",
        "print(score)\n",
        "\n",
        "# https://scikit-learn.org/stable/modules/generated/sklearn.metrics.classification_report.html\n",
        "# https://scikit-learn.org/stable/modules/model_evaluation.html\n",
        "predicted = logit.predict(test_X)\n",
        "logit_report = metrics.classification_report(test_y, predicted, labels=test_y, output_dict=True)\n",
        "\n",
        "pd.DataFrame(logit_report).T"
      ],
      "metadata": {
        "id": "wNjUBVVb8LwJ",
        "colab": {
          "base_uri": "https://localhost:8080/",
          "height": 748
        },
        "outputId": "bc19339a-b779-4082-d151-a08ea1275928"
      },
      "execution_count": null,
      "outputs": [
        {
          "output_type": "stream",
          "name": "stdout",
          "text": [
            "0.6829442591710339\n"
          ]
        },
        {
          "output_type": "execute_result",
          "data": {
            "text/html": [
              "\n",
              "  <div id=\"df-f6719661-5614-4fd4-b481-02de7e748d7b\">\n",
              "    <div class=\"colab-df-container\">\n",
              "      <div>\n",
              "<style scoped>\n",
              "    .dataframe tbody tr th:only-of-type {\n",
              "        vertical-align: middle;\n",
              "    }\n",
              "\n",
              "    .dataframe tbody tr th {\n",
              "        vertical-align: top;\n",
              "    }\n",
              "\n",
              "    .dataframe thead th {\n",
              "        text-align: right;\n",
              "    }\n",
              "</style>\n",
              "<table border=\"1\" class=\"dataframe\">\n",
              "  <thead>\n",
              "    <tr style=\"text-align: right;\">\n",
              "      <th></th>\n",
              "      <th>precision</th>\n",
              "      <th>recall</th>\n",
              "      <th>f1-score</th>\n",
              "      <th>support</th>\n",
              "    </tr>\n",
              "  </thead>\n",
              "  <tbody>\n",
              "    <tr>\n",
              "      <th>Wholesale</th>\n",
              "      <td>0.665012</td>\n",
              "      <td>0.572650</td>\n",
              "      <td>0.615385</td>\n",
              "      <td>4.680000e+02</td>\n",
              "    </tr>\n",
              "    <tr>\n",
              "      <th>Medical Practice</th>\n",
              "      <td>0.825301</td>\n",
              "      <td>0.693671</td>\n",
              "      <td>0.753783</td>\n",
              "      <td>3.950000e+02</td>\n",
              "    </tr>\n",
              "    <tr>\n",
              "      <th>Financial Services</th>\n",
              "      <td>0.898396</td>\n",
              "      <td>0.716418</td>\n",
              "      <td>0.797153</td>\n",
              "      <td>4.690000e+02</td>\n",
              "    </tr>\n",
              "    <tr>\n",
              "      <th>Human Resources</th>\n",
              "      <td>0.752688</td>\n",
              "      <td>0.642202</td>\n",
              "      <td>0.693069</td>\n",
              "      <td>2.180000e+02</td>\n",
              "    </tr>\n",
              "    <tr>\n",
              "      <th>Renewables &amp; Environment</th>\n",
              "      <td>0.814433</td>\n",
              "      <td>0.544828</td>\n",
              "      <td>0.652893</td>\n",
              "      <td>2.900000e+02</td>\n",
              "    </tr>\n",
              "    <tr>\n",
              "      <th>Marketing and Advertising</th>\n",
              "      <td>0.720418</td>\n",
              "      <td>0.748193</td>\n",
              "      <td>0.734043</td>\n",
              "      <td>8.300000e+02</td>\n",
              "    </tr>\n",
              "    <tr>\n",
              "      <th>Mechanical or Industrial Engineering</th>\n",
              "      <td>0.519033</td>\n",
              "      <td>0.855578</td>\n",
              "      <td>0.646108</td>\n",
              "      <td>1.004000e+03</td>\n",
              "    </tr>\n",
              "    <tr>\n",
              "      <th>Leisure, Travel &amp; Tourism</th>\n",
              "      <td>0.893443</td>\n",
              "      <td>0.736486</td>\n",
              "      <td>0.807407</td>\n",
              "      <td>1.480000e+02</td>\n",
              "    </tr>\n",
              "    <tr>\n",
              "      <th>Legal Services</th>\n",
              "      <td>0.901786</td>\n",
              "      <td>0.748148</td>\n",
              "      <td>0.817814</td>\n",
              "      <td>1.350000e+02</td>\n",
              "    </tr>\n",
              "    <tr>\n",
              "      <th>Information Technology and Services</th>\n",
              "      <td>0.698789</td>\n",
              "      <td>0.759425</td>\n",
              "      <td>0.727846</td>\n",
              "      <td>1.671000e+03</td>\n",
              "    </tr>\n",
              "    <tr>\n",
              "      <th>Management Consulting</th>\n",
              "      <td>0.582431</td>\n",
              "      <td>0.637681</td>\n",
              "      <td>0.608805</td>\n",
              "      <td>7.590000e+02</td>\n",
              "    </tr>\n",
              "    <tr>\n",
              "      <th>Construction</th>\n",
              "      <td>0.757812</td>\n",
              "      <td>0.497436</td>\n",
              "      <td>0.600619</td>\n",
              "      <td>3.900000e+02</td>\n",
              "    </tr>\n",
              "    <tr>\n",
              "      <th>Insurance</th>\n",
              "      <td>0.786325</td>\n",
              "      <td>0.605263</td>\n",
              "      <td>0.684015</td>\n",
              "      <td>1.520000e+02</td>\n",
              "    </tr>\n",
              "    <tr>\n",
              "      <th>Consumer Goods</th>\n",
              "      <td>0.637681</td>\n",
              "      <td>0.473118</td>\n",
              "      <td>0.543210</td>\n",
              "      <td>3.720000e+02</td>\n",
              "    </tr>\n",
              "    <tr>\n",
              "      <th>Telecommunications</th>\n",
              "      <td>0.715909</td>\n",
              "      <td>0.411765</td>\n",
              "      <td>0.522822</td>\n",
              "      <td>1.530000e+02</td>\n",
              "    </tr>\n",
              "    <tr>\n",
              "      <th>Automotive</th>\n",
              "      <td>0.750988</td>\n",
              "      <td>0.533708</td>\n",
              "      <td>0.623974</td>\n",
              "      <td>3.560000e+02</td>\n",
              "    </tr>\n",
              "    <tr>\n",
              "      <th>Real Estate</th>\n",
              "      <td>0.884422</td>\n",
              "      <td>0.733333</td>\n",
              "      <td>0.801822</td>\n",
              "      <td>2.400000e+02</td>\n",
              "    </tr>\n",
              "    <tr>\n",
              "      <th>Recreational Facilities and Services</th>\n",
              "      <td>0.752066</td>\n",
              "      <td>0.558282</td>\n",
              "      <td>0.640845</td>\n",
              "      <td>1.630000e+02</td>\n",
              "    </tr>\n",
              "    <tr>\n",
              "      <th>Logistics and Supply Chain</th>\n",
              "      <td>0.668342</td>\n",
              "      <td>0.726776</td>\n",
              "      <td>0.696335</td>\n",
              "      <td>1.830000e+02</td>\n",
              "    </tr>\n",
              "    <tr>\n",
              "      <th>accuracy</th>\n",
              "      <td>0.659159</td>\n",
              "      <td>0.659159</td>\n",
              "      <td>0.659159</td>\n",
              "      <td>6.591595e-01</td>\n",
              "    </tr>\n",
              "    <tr>\n",
              "      <th>macro avg</th>\n",
              "      <td>0.706042</td>\n",
              "      <td>0.682944</td>\n",
              "      <td>0.682818</td>\n",
              "      <td>6.413392e+06</td>\n",
              "    </tr>\n",
              "    <tr>\n",
              "      <th>weighted avg</th>\n",
              "      <td>0.677555</td>\n",
              "      <td>0.729235</td>\n",
              "      <td>0.693605</td>\n",
              "      <td>6.413392e+06</td>\n",
              "    </tr>\n",
              "  </tbody>\n",
              "</table>\n",
              "</div>\n",
              "      <button class=\"colab-df-convert\" onclick=\"convertToInteractive('df-f6719661-5614-4fd4-b481-02de7e748d7b')\"\n",
              "              title=\"Convert this dataframe to an interactive table.\"\n",
              "              style=\"display:none;\">\n",
              "        \n",
              "  <svg xmlns=\"http://www.w3.org/2000/svg\" height=\"24px\"viewBox=\"0 0 24 24\"\n",
              "       width=\"24px\">\n",
              "    <path d=\"M0 0h24v24H0V0z\" fill=\"none\"/>\n",
              "    <path d=\"M18.56 5.44l.94 2.06.94-2.06 2.06-.94-2.06-.94-.94-2.06-.94 2.06-2.06.94zm-11 1L8.5 8.5l.94-2.06 2.06-.94-2.06-.94L8.5 2.5l-.94 2.06-2.06.94zm10 10l.94 2.06.94-2.06 2.06-.94-2.06-.94-.94-2.06-.94 2.06-2.06.94z\"/><path d=\"M17.41 7.96l-1.37-1.37c-.4-.4-.92-.59-1.43-.59-.52 0-1.04.2-1.43.59L10.3 9.45l-7.72 7.72c-.78.78-.78 2.05 0 2.83L4 21.41c.39.39.9.59 1.41.59.51 0 1.02-.2 1.41-.59l7.78-7.78 2.81-2.81c.8-.78.8-2.07 0-2.86zM5.41 20L4 18.59l7.72-7.72 1.47 1.35L5.41 20z\"/>\n",
              "  </svg>\n",
              "      </button>\n",
              "      \n",
              "  <style>\n",
              "    .colab-df-container {\n",
              "      display:flex;\n",
              "      flex-wrap:wrap;\n",
              "      gap: 12px;\n",
              "    }\n",
              "\n",
              "    .colab-df-convert {\n",
              "      background-color: #E8F0FE;\n",
              "      border: none;\n",
              "      border-radius: 50%;\n",
              "      cursor: pointer;\n",
              "      display: none;\n",
              "      fill: #1967D2;\n",
              "      height: 32px;\n",
              "      padding: 0 0 0 0;\n",
              "      width: 32px;\n",
              "    }\n",
              "\n",
              "    .colab-df-convert:hover {\n",
              "      background-color: #E2EBFA;\n",
              "      box-shadow: 0px 1px 2px rgba(60, 64, 67, 0.3), 0px 1px 3px 1px rgba(60, 64, 67, 0.15);\n",
              "      fill: #174EA6;\n",
              "    }\n",
              "\n",
              "    [theme=dark] .colab-df-convert {\n",
              "      background-color: #3B4455;\n",
              "      fill: #D2E3FC;\n",
              "    }\n",
              "\n",
              "    [theme=dark] .colab-df-convert:hover {\n",
              "      background-color: #434B5C;\n",
              "      box-shadow: 0px 1px 3px 1px rgba(0, 0, 0, 0.15);\n",
              "      filter: drop-shadow(0px 1px 2px rgba(0, 0, 0, 0.3));\n",
              "      fill: #FFFFFF;\n",
              "    }\n",
              "  </style>\n",
              "\n",
              "      <script>\n",
              "        const buttonEl =\n",
              "          document.querySelector('#df-f6719661-5614-4fd4-b481-02de7e748d7b button.colab-df-convert');\n",
              "        buttonEl.style.display =\n",
              "          google.colab.kernel.accessAllowed ? 'block' : 'none';\n",
              "\n",
              "        async function convertToInteractive(key) {\n",
              "          const element = document.querySelector('#df-f6719661-5614-4fd4-b481-02de7e748d7b');\n",
              "          const dataTable =\n",
              "            await google.colab.kernel.invokeFunction('convertToInteractive',\n",
              "                                                     [key], {});\n",
              "          if (!dataTable) return;\n",
              "\n",
              "          const docLinkHtml = 'Like what you see? Visit the ' +\n",
              "            '<a target=\"_blank\" href=https://colab.research.google.com/notebooks/data_table.ipynb>data table notebook</a>'\n",
              "            + ' to learn more about interactive tables.';\n",
              "          element.innerHTML = '';\n",
              "          dataTable['output_type'] = 'display_data';\n",
              "          await google.colab.output.renderOutput(dataTable, element);\n",
              "          const docLink = document.createElement('div');\n",
              "          docLink.innerHTML = docLinkHtml;\n",
              "          element.appendChild(docLink);\n",
              "        }\n",
              "      </script>\n",
              "    </div>\n",
              "  </div>\n",
              "  "
            ],
            "text/plain": [
              "                                      precision  ...       support\n",
              "Wholesale                              0.665012  ...  4.680000e+02\n",
              "Medical Practice                       0.825301  ...  3.950000e+02\n",
              "Financial Services                     0.898396  ...  4.690000e+02\n",
              "Human Resources                        0.752688  ...  2.180000e+02\n",
              "Renewables & Environment               0.814433  ...  2.900000e+02\n",
              "Marketing and Advertising              0.720418  ...  8.300000e+02\n",
              "Mechanical or Industrial Engineering   0.519033  ...  1.004000e+03\n",
              "Leisure, Travel & Tourism              0.893443  ...  1.480000e+02\n",
              "Legal Services                         0.901786  ...  1.350000e+02\n",
              "Information Technology and Services    0.698789  ...  1.671000e+03\n",
              "Management Consulting                  0.582431  ...  7.590000e+02\n",
              "Construction                           0.757812  ...  3.900000e+02\n",
              "Insurance                              0.786325  ...  1.520000e+02\n",
              "Consumer Goods                         0.637681  ...  3.720000e+02\n",
              "Telecommunications                     0.715909  ...  1.530000e+02\n",
              "Automotive                             0.750988  ...  3.560000e+02\n",
              "Real Estate                            0.884422  ...  2.400000e+02\n",
              "Recreational Facilities and Services   0.752066  ...  1.630000e+02\n",
              "Logistics and Supply Chain             0.668342  ...  1.830000e+02\n",
              "accuracy                               0.659159  ...  6.591595e-01\n",
              "macro avg                              0.706042  ...  6.413392e+06\n",
              "weighted avg                           0.677555  ...  6.413392e+06\n",
              "\n",
              "[22 rows x 4 columns]"
            ]
          },
          "metadata": {},
          "execution_count": 16
        }
      ]
    },
    {
      "cell_type": "markdown",
      "source": [
        "Confusion matrix"
      ],
      "metadata": {
        "id": "wpaLfN9zP5BK"
      }
    },
    {
      "cell_type": "code",
      "source": [
        "# https://www.stackvidhya.com/plot-confusion-matrix-in-python-and-why/\n",
        "cf_matrix = metrics.confusion_matrix(test_y, predicted)\n",
        "\n",
        "import seaborn as sns\n",
        "import matplotlib.pyplot as plt\n",
        "\n",
        "fig, ax = plt.subplots(figsize=(50, 50))\n",
        "\n",
        "sns.heatmap(cf_matrix, annot=True, cmap='Greens')\n",
        "\n",
        "ax.set_title('Seaborn Confusion Matrix with labels\\n\\n');\n",
        "ax.set_xlabel('\\nPredicted Industry')\n",
        "ax.set_ylabel('Actual Industy');\n",
        "\n",
        "# list of labels\n",
        "industries = df_train['industry_label'].tolist()\n",
        "industries = sorted(set(industries))\n",
        "\n",
        "# ticket labels - List must be in alphabetical order\n",
        "ax.xaxis.set_ticklabels(industries)\n",
        "ax.yaxis.set_ticklabels(industries)\n",
        "\n",
        "# display the visualization of the Confusion Matrix.\n",
        "plt.show()"
      ],
      "metadata": {
        "id": "tpUjGG9pbw6j",
        "outputId": "6a515453-fd58-4fc3-f582-33ca230446b2",
        "colab": {
          "base_uri": "https://localhost:8080/",
          "height": 1000
        }
      },
      "execution_count": null,
      "outputs": [
        {
          "output_type": "display_data",
          "data": {
            "image/png": "[encoded data removed]",
            "text/plain": [
              "<Figure size 3600x3600 with 2 Axes>"
            ]
          },
          "metadata": {
            "needs_background": "light"
          }
        }
      ]
    },
    {
      "cell_type": "markdown",
      "source": [
        "AUC ROC scoring\n",
        "\n",
        "https://medium.com/@plog397/auc-roc-curve-scoring-function-for-multi-class-classification-9822871a6659"
      ],
      "metadata": {
        "id": "Pi5rsLqqDJuA"
      }
    },
    {
      "cell_type": "code",
      "source": [
        "def multiclass_roc_auc_score(val_y, predicted, average=\"macro\"):\n",
        "  lb = preprocessing.LabelBinarizer()\n",
        "  lb.fit(val_y)\n",
        "  val_y = lb.transform(val_y)\n",
        "  predicted = lb.transform(predicted)\n",
        "  return metrics.roc_auc_score(val_y, predicted, average=average)\n",
        "\n",
        "multiclass_roc_auc_score(test_y,predicted)"
      ],
      "metadata": {
        "id": "qwQ0szSiDMvD",
        "outputId": "738b04bd-35ac-4f08-adc6-164948869d3e",
        "colab": {
          "base_uri": "https://localhost:8080/"
        }
      },
      "execution_count": null,
      "outputs": [
        {
          "output_type": "execute_result",
          "data": {
            "text/plain": [
              "0.8115262165951082"
            ]
          },
          "metadata": {},
          "execution_count": 18
        }
      ]
    },
    {
      "cell_type": "markdown",
      "source": [
        "### Save & reload model\n",
        "\n",
        "Following: https://stackoverflow.com/questions/10592605/save-classifier-to-disk-in-scikit-learn"
      ],
      "metadata": {
        "id": "qX-teEPX72hU"
      }
    },
    {
      "cell_type": "code",
      "source": [
        "logit.sparsify()\n",
        "# save model and vectorizer to file\n",
        "with open('log_tfidf.pkl', 'wb') as f:\n",
        "    pickle.dump((vectorizer, logit), f)\n",
        "\n",
        "drive.mount('/gdrive')\n",
        "!cp log_tfidf.pkl '/gdrive/MyDrive/industry_data_processed/models/logistic_regression' "
      ],
      "metadata": {
        "id": "m7zlaBRbh-2z",
        "outputId": "040a50ac-0cc9-40a1-bab3-1586941f85c6",
        "colab": {
          "base_uri": "https://localhost:8080/"
        }
      },
      "execution_count": null,
      "outputs": [
        {
          "output_type": "stream",
          "name": "stdout",
          "text": [
            "Drive already mounted at /gdrive; to attempt to forcibly remount, call drive.mount(\"/gdrive\", force_remount=True).\n"
          ]
        }
      ]
    },
    {
      "cell_type": "code",
      "source": [
        "# reload methos -> used in app\n",
        "drive.mount('/gdrive')\n",
        "data_path = Path('/gdrive/MyDrive/industry_data_processed/models/logistic_regression')\n",
        "file_name = 'log_tfidf.pkl'\n",
        "\n",
        "# load model\n",
        "with open(data_path/file_name, 'rb') as f:\n",
        "    vectorizer_loaded, logit_loaded = pickle.load(f)"
      ],
      "metadata": {
        "colab": {
          "base_uri": "https://localhost:8080/"
        },
        "id": "2nhGn4PQ8Mcl",
        "outputId": "5c223433-50a3-44ab-b522-a9afd8446376"
      },
      "execution_count": null,
      "outputs": [
        {
          "output_type": "stream",
          "name": "stdout",
          "text": [
            "Drive already mounted at /gdrive; to attempt to forcibly remount, call drive.mount(\"/gdrive\", force_remount=True).\n"
          ]
        }
      ]
    },
    {
      "cell_type": "markdown",
      "source": [
        "# Imbalanced data"
      ],
      "metadata": {
        "id": "29SiQMyLALPV"
      }
    },
    {
      "cell_type": "code",
      "source": [
        "from imblearn.over_sampling import SMOTE \n",
        "from imblearn.under_sampling import RandomUnderSampler\n",
        "from imblearn.combine import SMOTEENN\n",
        "from imblearn.combine import SMOTETomek"
      ],
      "metadata": {
        "id": "i-q9o26wB_b4"
      },
      "execution_count": null,
      "outputs": []
    },
    {
      "cell_type": "markdown",
      "source": [
        "###Oversampling\n",
        "\n",
        "https://imbalanced-learn.org/stable/over_sampling.html\n",
        "\n",
        "Results: Depends. On train dataset there is a rise in metrics. However, prefer class weighting or combination of over- and undersampling.\n",
        "\n"
      ],
      "metadata": {
        "id": "cfOxifOeqvlh"
      }
    },
    {
      "cell_type": "code",
      "source": [
        "# Synthetic Minority Oversampling Technique\n",
        "# interpolating new points between marginal outliers and inliers\n",
        "X_resampled_up, y_resampled_up = SMOTE().fit_resample(train_X, train_y)"
      ],
      "metadata": {
        "id": "fDd95OyVIqXP"
      },
      "execution_count": null,
      "outputs": []
    },
    {
      "cell_type": "code",
      "source": [
        "print(sorted(Counter(y_resampled_up).items()))"
      ],
      "metadata": {
        "colab": {
          "base_uri": "https://localhost:8080/"
        },
        "id": "_JHycwW-IxRi",
        "outputId": "12cf8e97-13a9-448f-e2b7-8bccab97fcfd"
      },
      "execution_count": null,
      "outputs": [
        {
          "output_type": "stream",
          "name": "stdout",
          "text": [
            "[('Automotive', 2144), ('Construction', 2144), ('Consumer Goods', 2144), ('Financial Services', 2144), ('Human Resources', 2144), ('Information Technology and Services', 2144), ('Insurance', 2144), ('Legal Services', 2144), ('Leisure, Travel & Tourism', 2144), ('Logistics and Supply Chain', 2144), ('Management Consulting', 2144), ('Marketing and Advertising', 2144), ('Mechanical or Industrial Engineering', 2144), ('Medical Practice', 2144), ('Real Estate', 2144), ('Recreational Facilities and Services', 2144), ('Renewables & Environment', 2144), ('Telecommunications', 2144), ('Wholesale', 2144)]\n"
          ]
        }
      ]
    },
    {
      "cell_type": "code",
      "source": [
        "df_train.industry_label.value_counts().plot(kind='bar')"
      ],
      "metadata": {
        "colab": {
          "base_uri": "https://localhost:8080/",
          "height": 458
        },
        "id": "26fZYcdQqysN",
        "outputId": "41c3a7dd-a4ac-4d70-fa90-9b5020e1ba16"
      },
      "execution_count": null,
      "outputs": [
        {
          "output_type": "execute_result",
          "data": {
            "text/plain": [
              "<matplotlib.axes._subplots.AxesSubplot at 0x7f997dbf64d0>"
            ]
          },
          "metadata": {},
          "execution_count": 39
        },
        {
          "output_type": "display_data",
          "data": {
            "image/png": "[encoded data removed]",
            "text/plain": [
              "<Figure size 432x288 with 1 Axes>"
            ]
          },
          "metadata": {
            "needs_background": "light"
          }
        }
      ]
    },
    {
      "cell_type": "markdown",
      "source": [
        "###Undersampling\n",
        "\n",
        "https://imbalanced-learn.org/stable/combine.html\n",
        "\n",
        "Results: Little rise in metrics, not too much when using train dataset only. Drop of metric when using pre-splitted train and test data."
      ],
      "metadata": {
        "id": "0aB9ovoaynxI"
      }
    },
    {
      "cell_type": "code",
      "source": [
        "# subset of data for the targeted classes\n",
        "rus = RandomUnderSampler(random_state=42)"
      ],
      "metadata": {
        "id": "ekJ90NqupsAR"
      },
      "execution_count": null,
      "outputs": []
    },
    {
      "cell_type": "code",
      "source": [
        "X_resampled_under, y_resampled_under = rus.fit_resample(train_X, train_y)"
      ],
      "metadata": {
        "id": "J-FR5NpjpxJ7"
      },
      "execution_count": null,
      "outputs": []
    },
    {
      "cell_type": "code",
      "source": [
        "print(sorted(Counter(y_resampled_under).items()))"
      ],
      "metadata": {
        "colab": {
          "base_uri": "https://localhost:8080/"
        },
        "id": "emkEcXEq0yVa",
        "outputId": "f4a525ab-585c-47e2-a9f2-95a464a00ae1"
      },
      "execution_count": null,
      "outputs": [
        {
          "output_type": "stream",
          "name": "stdout",
          "text": [
            "[('Automotive', 207), ('Construction', 207), ('Consumer Goods', 207), ('Financial Services', 207), ('Human Resources', 207), ('Information Technology and Services', 207), ('Insurance', 207), ('Legal Services', 207), ('Leisure, Travel & Tourism', 207), ('Logistics and Supply Chain', 207), ('Management Consulting', 207), ('Marketing and Advertising', 207), ('Mechanical or Industrial Engineering', 207), ('Medical Practice', 207), ('Real Estate', 207), ('Recreational Facilities and Services', 207), ('Renewables & Environment', 207), ('Telecommunications', 207), ('Wholesale', 207)]\n"
          ]
        }
      ]
    },
    {
      "cell_type": "markdown",
      "source": [
        "### Combination: Under- and Oversampling\n",
        "\n",
        "Results: SMOTETomek worked better, raise in metrics when using train dataset only."
      ],
      "metadata": {
        "id": "rOO3d68n66Sg"
      }
    },
    {
      "cell_type": "code",
      "source": [
        "smote_enn = SMOTEENN(random_state=0)\n",
        "smote_tomek = SMOTETomek(random_state=0)"
      ],
      "metadata": {
        "id": "OKD5ZHMH7hcP"
      },
      "execution_count": null,
      "outputs": []
    },
    {
      "cell_type": "code",
      "source": [
        "# may take some time\n",
        "X_resampled_both, y_resampled_both = smote_tomek.fit_resample(train_X, train_y) # or exchange with smote_enn (performance is better on tomek)"
      ],
      "metadata": {
        "id": "V8N2WJ_I7vAE"
      },
      "execution_count": null,
      "outputs": []
    },
    {
      "cell_type": "code",
      "source": [
        "print(sorted(Counter(y_resampled_both).items()))"
      ],
      "metadata": {
        "id": "I5ag3YZw75V6",
        "outputId": "f0497b9a-b0ee-41e7-8b16-853e534550ec",
        "colab": {
          "base_uri": "https://localhost:8080/"
        }
      },
      "execution_count": null,
      "outputs": [
        {
          "output_type": "stream",
          "name": "stdout",
          "text": [
            "[('Automotive', 3474), ('Construction', 3472), ('Consumer Goods', 3472), ('Financial Services', 3474), ('Human Resources', 3474), ('Information Technology and Services', 3443), ('Insurance', 3474), ('Legal Services', 3474), ('Leisure, Travel & Tourism', 3474), ('Logistics and Supply Chain', 3474), ('Management Consulting', 3458), ('Marketing and Advertising', 3460), ('Mechanical or Industrial Engineering', 3462), ('Medical Practice', 3474), ('Real Estate', 3473), ('Recreational Facilities and Services', 3474), ('Renewables & Environment', 3474), ('Telecommunications', 3473), ('Wholesale', 3471)]\n"
          ]
        }
      ]
    },
    {
      "cell_type": "markdown",
      "source": [
        "# Alternatives: Results and tests on combinations\n",
        "\n",
        "Here, the rest of combinations are saved. They were not used for the logistic regression model in the app."
      ],
      "metadata": {
        "id": "IBtl3MriHdBz"
      }
    },
    {
      "cell_type": "code",
      "source": [
        "# use this when working on train only\n",
        "\n",
        "#y = df_train['industry_label']\n",
        "#X = df_train['concatenated']\n",
        "# train_X, test_X, train_y, test_y = train_test_split(X, y, random_state=42)"
      ],
      "metadata": {
        "id": "BU10Gm--M5Ci"
      },
      "execution_count": null,
      "outputs": []
    },
    {
      "cell_type": "markdown",
      "source": [
        "**Alternative: Multi-column on the pre-splitted train test data**"
      ],
      "metadata": {
        "id": "GiLBLWrmIA0I"
      }
    },
    {
      "cell_type": "code",
      "source": [
        "logit_mc = LogisticRegression(C=5e1, solver='lbfgs', multi_class='multinomial', random_state=17, n_jobs=4, class_weight = 'balanced') \n",
        "\n",
        "# https://scikit-learn.org/stable/modules/compose.html#feature-union\n",
        "# https://scikit-learn.org/stable/auto_examples/compose/plot_column_transformer_mixed_types.html\n",
        "column_trans = ColumnTransformer(transformers=[\n",
        "     ('text', TfidfVectorizer(max_features=400000), 'concatenated'),\n",
        "     ('imputer', SimpleImputer(strategy='median'), ['sentiment_analysis']), # 'sentiment_analysis' is 1D, however 2D is expected -> use []\n",
        "  ], remainder='drop', verbose_feature_names_out=False)\n",
        "\n",
        "# we tested several combinations and all columns in the column transformer\n",
        "# the best results were achieved with the concatenated text and the sentiment-analysis"
      ],
      "metadata": {
        "id": "gE4PrLftHiqb"
      },
      "execution_count": null,
      "outputs": []
    },
    {
      "cell_type": "code",
      "source": [
        "train_X_mc = df_train.drop(['url', 'industry', 'industry_label'], axis=1).copy()\n",
        "train_y_mc = df_train['industry_label'].copy().values.reshape(-1, 1)\n",
        "\n",
        "test_X_mc = df_test.drop(['url', 'industry', 'industry_label'], axis=1).copy()\n",
        "test_y_mc = df_test['industry_label'].copy().values.reshape(-1, 1)\n",
        "\n",
        "train_y_mc.tolist()\n",
        "test_y_mc.tolist()\n",
        "\n",
        "train_X_mc.shape, train_y_mc.shape"
      ],
      "metadata": {
        "id": "cCISgpKqIdnE"
      },
      "execution_count": null,
      "outputs": []
    },
    {
      "cell_type": "code",
      "source": [
        "pipeline = Pipeline(steps=[('t', column_trans), ('m',logit_mc)])"
      ],
      "metadata": {
        "id": "fefv-ntyHi04"
      },
      "execution_count": null,
      "outputs": []
    },
    {
      "cell_type": "code",
      "source": [
        "pipeline.fit(train_X_mc, train_y_mc.ravel())"
      ],
      "metadata": {
        "id": "OP7fXfkPHi04"
      },
      "execution_count": null,
      "outputs": []
    },
    {
      "cell_type": "code",
      "source": [
        "pipeline.score(test_X_mc, test_y_mc.ravel())"
      ],
      "metadata": {
        "outputId": "5cf56d38-3369-45b2-b2b1-9e0c28b6ca13",
        "colab": {
          "base_uri": "https://localhost:8080/"
        },
        "id": "77Wy-MjfHi04"
      },
      "execution_count": null,
      "outputs": [
        {
          "output_type": "execute_result",
          "data": {
            "text/plain": [
              "0.5270366841353026"
            ]
          },
          "metadata": {},
          "execution_count": 134
        }
      ]
    },
    {
      "cell_type": "code",
      "source": [
        "# check out pipeline with cross-validation\n",
        "results = cross_validate(pipeline, train_X_mc, train_y_mc.ravel(), return_train_score=True, cv=3)\n",
        "results"
      ],
      "metadata": {
        "outputId": "1135398f-0af9-47b4-bced-43cd2e5c5462",
        "colab": {
          "base_uri": "https://localhost:8080/"
        },
        "id": "LoFLBnr1Hi04"
      },
      "execution_count": null,
      "outputs": [
        {
          "output_type": "stream",
          "name": "stderr",
          "text": [
            "/usr/local/lib/python3.7/dist-packages/sklearn/utils/validation.py:993: DataConversionWarning: A column-vector y was passed when a 1d array was expected. Please change the shape of y to (n_samples, ), for example using ravel().\n",
            "  y = column_or_1d(y, warn=True)\n",
            "/usr/local/lib/python3.7/dist-packages/sklearn/utils/validation.py:993: DataConversionWarning: A column-vector y was passed when a 1d array was expected. Please change the shape of y to (n_samples, ), for example using ravel().\n",
            "  y = column_or_1d(y, warn=True)\n",
            "/usr/local/lib/python3.7/dist-packages/sklearn/utils/validation.py:993: DataConversionWarning: A column-vector y was passed when a 1d array was expected. Please change the shape of y to (n_samples, ), for example using ravel().\n",
            "  y = column_or_1d(y, warn=True)\n",
            "/usr/local/lib/python3.7/dist-packages/sklearn/utils/validation.py:993: DataConversionWarning: A column-vector y was passed when a 1d array was expected. Please change the shape of y to (n_samples, ), for example using ravel().\n",
            "  y = column_or_1d(y, warn=True)\n",
            "/usr/local/lib/python3.7/dist-packages/sklearn/utils/validation.py:993: DataConversionWarning: A column-vector y was passed when a 1d array was expected. Please change the shape of y to (n_samples, ), for example using ravel().\n",
            "  y = column_or_1d(y, warn=True)\n"
          ]
        }
      ]
    },
    {
      "cell_type": "markdown",
      "source": [
        "**Alternative: Combine both datasets and re-split (check out with stratified k-fold cross-validation)**\n",
        "\n",
        "In contrast to the other scores of the pre-splittet data sets, here the scores go up."
      ],
      "metadata": {
        "id": "N3bQAGcMnBdj"
      }
    },
    {
      "cell_type": "code",
      "source": [
        "y = pd.concat([df_train['industry_label'], df_test['industry_label']], ignore_index=True)\n",
        "X = pd.concat([df_train['concatenated'], df_test['concatenated']], ignore_index=True)"
      ],
      "metadata": {
        "id": "n2kSc7ldhBgJ"
      },
      "execution_count": null,
      "outputs": []
    },
    {
      "cell_type": "code",
      "source": [
        "skf = StratifiedKFold(n_splits=4, shuffle=True, random_state=100)\n",
        "\n",
        "acc_stratified = []\n",
        "\n",
        "for train_index,test_index in skf.split(X,y):\n",
        "  X_train, X_test = vectorizer.fit_transform(X[train_index]), vectorizer.transform(X[test_index])\n",
        "  y_train, y_test = (y[train_index]).tolist(), (y[test_index]).tolist()\n",
        "\n",
        "  logit.fit(X_train, y_train) \n",
        "  \n",
        "  acc_stratified.append(logit.score(X_test, y_test))\n",
        "\n",
        "print('Accuracy over folds:', acc_stratified)"
      ],
      "metadata": {
        "colab": {
          "base_uri": "https://localhost:8080/"
        },
        "id": "Y1IMhJK1nFbC",
        "outputId": "0ba43e6d-843b-4b89-db25-7ca1ab263bb3"
      },
      "execution_count": null,
      "outputs": [
        {
          "output_type": "stream",
          "name": "stdout",
          "text": [
            "Accuracy over folds: [0.7535702951443985, 0.7625773686716394, 0.7513093159815902, 0.7470242818600222]\n"
          ]
        }
      ]
    },
    {
      "cell_type": "markdown",
      "source": [
        "**Alternative: Model with naive bayes classifier**\n",
        "\n",
        "The results are way behind the logistic regression. Low score -> wouldn't recommend, no further usage.\n",
        "\n",
        "https://towardsdatascience.com/multi-class-text-classification-with-scikit-learn-12f1e60e0a9f\n",
        "\n"
      ],
      "metadata": {
        "id": "oGJHJyJonaqb"
      }
    },
    {
      "cell_type": "code",
      "source": [
        "nb = MultinomialNB().fit(train_X, train_y)"
      ],
      "metadata": {
        "id": "tfD8-_LRnaBw"
      },
      "execution_count": null,
      "outputs": []
    },
    {
      "cell_type": "code",
      "source": [
        "score = nb.score(test_X, test_y)\n",
        "score"
      ],
      "metadata": {
        "id": "uptB-h1pMoyU",
        "outputId": "c62d3d22-3713-4783-e389-9dea5a47a26f",
        "colab": {
          "base_uri": "https://localhost:8080/"
        }
      },
      "execution_count": null,
      "outputs": [
        {
          "output_type": "execute_result",
          "data": {
            "text/plain": [
              "0.25762267746545975"
            ]
          },
          "metadata": {},
          "execution_count": 24
        }
      ]
    },
    {
      "cell_type": "markdown",
      "source": [
        "### Summary of the results\n",
        "\n",
        "\n",
        "**Train dataset with regular train-test-split**\n",
        "\n",
        "* With unfiltered data, regular train_X, train_y: \n",
        "  * 6 min\n",
        "  * score 0.71 \n",
        "* Upsampled (oversampling) data X, y (shouldnt be done this way, duplicates in test)\n",
        "  * 12 min\n",
        "* Upsampled data train_X, train_y (do oversampling after split, only on train)\n",
        "  * 16 min \n",
        "  * 0.72\n",
        "* Undersampling on train-split with random undersampler:\n",
        "  * 0.67\n",
        "* Combination of under and oversampling\n",
        "  * smote_enn: 11 min, 0.6\n",
        "  * smote_tomek: 15 min, 0.72 \n",
        "* Filtered german data (lang_code = de)\n",
        "  * 0.73\n",
        "* Filtered germand data + smote_tomek\n",
        "  * 7 min\n",
        "  * 0.75\n",
        "\n",
        "**Pre-splitten train and test dataset filtered for German data**\n",
        "\n",
        "* With regular train_X, train_y: \n",
        "  * 0.68\n",
        "* Upsampled data train_X, train_y (do oversampling after split, only on train)\n",
        "  * 0.68\n",
        "* Undersampling on train-split with random undersampler:\n",
        "  * 0.61\n",
        "* Combination of under and oversampling\n",
        "  * smote_tomek: 0.68"
      ],
      "metadata": {
        "id": "BG1BnohBACzC"
      }
    }
  ]
}